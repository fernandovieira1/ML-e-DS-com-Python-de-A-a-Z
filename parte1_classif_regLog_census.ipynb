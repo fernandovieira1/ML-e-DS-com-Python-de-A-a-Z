{
 "cells": [
  {
   "cell_type": "code",
   "execution_count": 1,
   "metadata": {},
   "outputs": [],
   "source": [
    "import os\n",
    "import pandas as pd\n",
    "import numpy as np"
   ]
  },
  {
   "cell_type": "code",
   "execution_count": 2,
   "metadata": {},
   "outputs": [],
   "source": [
    "import pickle\n",
    "with open('census.pkl', 'rb') as f:\n",
    "    x_census_treinamento, y_census_treinamento, x_census_teste, y_census_teste = pickle.load(f)"
   ]
  },
  {
   "cell_type": "code",
   "execution_count": 3,
   "metadata": {},
   "outputs": [
    {
     "data": {
      "text/plain": [
       "((27676, 108), (27676,))"
      ]
     },
     "execution_count": 3,
     "metadata": {},
     "output_type": "execute_result"
    }
   ],
   "source": [
    "x_census_treinamento.shape, y_census_treinamento.shape\n"
   ]
  },
  {
   "cell_type": "code",
   "execution_count": 4,
   "metadata": {},
   "outputs": [
    {
     "data": {
      "text/plain": [
       "((4885, 108), (4885,))"
      ]
     },
     "execution_count": 4,
     "metadata": {},
     "output_type": "execute_result"
    }
   ],
   "source": [
    "x_census_teste.shape, y_census_teste.shape"
   ]
  },
  {
   "cell_type": "code",
   "execution_count": 5,
   "metadata": {},
   "outputs": [],
   "source": [
    "from sklearn.linear_model import LogisticRegression"
   ]
  },
  {
   "cell_type": "code",
   "execution_count": 6,
   "metadata": {},
   "outputs": [
    {
     "data": {
      "text/plain": [
       "LogisticRegression(random_state=1)"
      ]
     },
     "execution_count": 6,
     "metadata": {},
     "output_type": "execute_result"
    }
   ],
   "source": [
    "## Treinamento\n",
    "logistic_census = LogisticRegression(random_state=1)\n",
    "logistic_census.fit(x_census_treinamento, y_census_treinamento)"
   ]
  },
  {
   "cell_type": "code",
   "execution_count": 7,
   "metadata": {},
   "outputs": [
    {
     "data": {
      "text/plain": [
       "array([-2.10474165])"
      ]
     },
     "execution_count": 7,
     "metadata": {},
     "output_type": "execute_result"
    }
   ],
   "source": [
    "logistic_census.intercept_"
   ]
  },
  {
   "cell_type": "code",
   "execution_count": 8,
   "metadata": {},
   "outputs": [
    {
     "data": {
      "text/plain": [
       "array([[-6.94469649e-02,  1.18679159e-01, -9.04524758e-03,\n",
       "        -7.81357460e-02,  5.76691457e-02,  5.08994420e-02,\n",
       "        -8.82856549e-02, -5.01462809e-02, -1.42900810e-01,\n",
       "        -1.04784027e-01, -1.19233556e-01, -3.77074867e-02,\n",
       "        -2.08124820e-02, -2.93974652e-02, -8.45705964e-02,\n",
       "        -8.08920718e-02, -8.16248852e-03,  1.09035256e-02,\n",
       "         1.46893853e-01,  1.20194939e-01, -7.84325002e-02,\n",
       "         1.45553932e-01, -4.75278833e-01,  1.14436730e-01,\n",
       "         2.27948173e-02, -1.93347518e-01,  4.38094226e-02,\n",
       "         7.07825942e-01, -6.57034078e-02, -5.23341515e-01,\n",
       "        -1.09247966e-01, -8.94357349e-02, -7.42801130e-02,\n",
       "        -1.40912231e-02, -2.06468670e-02,  2.21547856e-02,\n",
       "         2.51784840e-01, -1.68183468e-01, -1.43046856e-01,\n",
       "        -8.47285978e-02, -2.55735605e-01, -2.68986405e-01,\n",
       "         1.61655356e-01,  8.57817041e-02,  8.33259769e-02,\n",
       "         1.08967512e-01, -2.56717036e-02, -2.99250091e-02,\n",
       "         1.37854640e-01, -8.45026445e-02, -3.08580420e-01,\n",
       "         5.89016699e-02,  2.93293299e-01, -5.25079281e-02,\n",
       "         2.35607642e-02, -2.38298447e-02, -8.59172137e-03,\n",
       "         2.48413428e-02, -2.10986154e-01,  2.10986154e-01,\n",
       "        -1.82292207e-02,  3.69484052e-02,  2.42407730e-02,\n",
       "        -3.37950993e-02, -1.01718308e-01,  2.14245725e-02,\n",
       "        -7.08443487e-02, -8.55253963e-03, -2.88974669e-02,\n",
       "         5.47352856e-04,  1.29720912e-02,  1.25924174e-02,\n",
       "        -3.07081750e-02, -7.16006931e-03, -8.36571903e-04,\n",
       "        -2.51915707e-02, -1.95325832e-02,  1.09305091e-02,\n",
       "        -3.26834702e-03, -1.51127353e-02, -1.98397794e-03,\n",
       "         8.75132579e-03,  4.15960807e-02,  2.22215932e-03,\n",
       "         1.66204032e-02, -3.04280312e-03, -6.37936350e-02,\n",
       "        -4.98508697e-03, -1.31294366e-01, -1.45102273e-02,\n",
       "         6.55403878e-02,  5.82076956e-03, -7.77847202e-04,\n",
       "        -4.41222585e-02,  6.17103840e-03, -4.49162929e-02,\n",
       "         4.20835866e-03, -7.53983054e-03, -2.97415559e-02,\n",
       "         7.45044480e-02, -5.26390205e-02,  1.22595895e-02,\n",
       "         3.41845756e-01,  6.92395544e-02,  3.70826492e-01,\n",
       "         2.35271578e+00,  2.53087455e-01,  3.73197158e-01]])"
      ]
     },
     "execution_count": 8,
     "metadata": {},
     "output_type": "execute_result"
    }
   ],
   "source": [
    "logistic_census.coef_\n",
    "# Renda, Idade, Divida"
   ]
  },
  {
   "cell_type": "code",
   "execution_count": 9,
   "metadata": {},
   "outputs": [
    {
     "data": {
      "text/plain": [
       "array([' <=50K', ' <=50K', ' <=50K', ..., ' <=50K', ' <=50K', ' >50K'],\n",
       "      dtype=object)"
      ]
     },
     "execution_count": 9,
     "metadata": {},
     "output_type": "execute_result"
    }
   ],
   "source": [
    "previsoes = logistic_census.predict(x_census_teste)\n",
    "previsoes\n",
    "# 0: paga; 1: nao paga"
   ]
  },
  {
   "cell_type": "code",
   "execution_count": 10,
   "metadata": {},
   "outputs": [
    {
     "data": {
      "text/plain": [
       "array([' <=50K', ' <=50K', ' <=50K', ..., ' <=50K', ' <=50K', ' <=50K'],\n",
       "      dtype=object)"
      ]
     },
     "execution_count": 10,
     "metadata": {},
     "output_type": "execute_result"
    }
   ],
   "source": [
    "y_census_teste"
   ]
  },
  {
   "cell_type": "code",
   "execution_count": 11,
   "metadata": {},
   "outputs": [
    {
     "data": {
      "text/plain": [
       "0.849539406345957"
      ]
     },
     "execution_count": 11,
     "metadata": {},
     "output_type": "execute_result"
    }
   ],
   "source": [
    "from sklearn.metrics import accuracy_score, classification_report\n",
    "accuracy_score(y_census_teste, previsoes)"
   ]
  },
  {
   "cell_type": "code",
   "execution_count": 12,
   "metadata": {},
   "outputs": [
    {
     "data": {
      "text/plain": [
       "0.849539406345957"
      ]
     },
     "execution_count": 12,
     "metadata": {},
     "output_type": "execute_result"
    },
    {
     "data": {
      "image/png": "[encoded data removed]",
      "text/plain": [
       "<Figure size 576x396 with 1 Axes>"
      ]
     },
     "metadata": {},
     "output_type": "display_data"
    }
   ],
   "source": [
    "from yellowbrick.classifier import ConfusionMatrix\n",
    "cm = ConfusionMatrix(logistic_census)\n",
    "cm.fit(x_census_treinamento, y_census_treinamento)\n",
    "cm.score(x_census_teste, y_census_teste)"
   ]
  },
  {
   "cell_type": "code",
   "execution_count": 13,
   "metadata": {},
   "outputs": [
    {
     "name": "stdout",
     "output_type": "stream",
     "text": [
      "              precision    recall  f1-score   support\n",
      "\n",
      "       <=50K       0.88      0.93      0.90      3693\n",
      "        >50K       0.73      0.61      0.66      1192\n",
      "\n",
      "    accuracy                           0.85      4885\n",
      "   macro avg       0.80      0.77      0.78      4885\n",
      "weighted avg       0.84      0.85      0.84      4885\n",
      "\n"
     ]
    }
   ],
   "source": [
    "print(classification_report(y_census_teste, previsoes))"
   ]
  }
 ],
 "metadata": {
  "interpreter": {
   "hash": "31f2aee4e71d21fbe5cf8b01ff0e069b9275f58929596ceb00d14d90e3e16cd6"
  },
  "kernelspec": {
   "display_name": "Python 3.8.9 64-bit",
   "language": "python",
   "name": "python3"
  },
  "language_info": {
   "codemirror_mode": {
    "name": "ipython",
    "version": 3
   },
   "file_extension": ".py",
   "mimetype": "text/x-python",
   "name": "python",
   "nbconvert_exporter": "python",
   "pygments_lexer": "ipython3",
   "version": "3.8.9"
  },
  "orig_nbformat": 4
 },
 "nbformat": 4,
 "nbformat_minor": 2
}
