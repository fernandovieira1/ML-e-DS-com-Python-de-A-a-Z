{
 "cells": [
  {
   "cell_type": "code",
   "execution_count": 6,
   "metadata": {},
   "outputs": [],
   "source": [
    "import pandas as pd\n",
    "import numpy as np\n",
    "\n",
    "from sklearn.model_selection import cross_val_predict, cross_val_score, KFold\n",
    "\n",
    "from sklearn.tree import DecisionTreeClassifier\n",
    "from sklearn.ensemble import RandomForestClassifier\n",
    "from sklearn.neighbors import KNeighborsClassifier\n",
    "from sklearn.linear_model import LogisticRegression\n",
    "from sklearn.svm import SVC\n",
    "from sklearn.neural_network import MLPClassifier"
   ]
  },
  {
   "cell_type": "markdown",
   "metadata": {},
   "source": [
    "## Preparacao dos dados"
   ]
  },
  {
   "cell_type": "code",
   "execution_count": 7,
   "metadata": {},
   "outputs": [],
   "source": [
    "import pickle\n",
    "with open('credit.pkl', 'rb') as f:\n",
    "  x_credit_treinamento, y_credit_treinamento, x_credit_teste, y_credit_teste =pickle.load(f)"
   ]
  },
  {
   "cell_type": "code",
   "execution_count": 8,
   "metadata": {},
   "outputs": [
    {
     "data": {
      "text/plain": [
       "((1500, 3), (1500,))"
      ]
     },
     "execution_count": 8,
     "metadata": {},
     "output_type": "execute_result"
    }
   ],
   "source": [
    "x_credit_treinamento.shape, y_credit_treinamento.shape"
   ]
  },
  {
   "cell_type": "code",
   "execution_count": 9,
   "metadata": {},
   "outputs": [
    {
     "data": {
      "text/plain": [
       "((500, 3), (500,))"
      ]
     },
     "execution_count": 9,
     "metadata": {},
     "output_type": "execute_result"
    }
   ],
   "source": [
    "x_credit_teste.shape, y_credit_teste.shape"
   ]
  },
  {
   "cell_type": "code",
   "execution_count": 10,
   "metadata": {},
   "outputs": [
    {
     "data": {
      "text/plain": [
       "(2000, 3)"
      ]
     },
     "execution_count": 10,
     "metadata": {},
     "output_type": "execute_result"
    }
   ],
   "source": [
    "# como faremos a selecao ods parametros por KFold, vamos juntar as bass\n",
    "x_credit = np.concatenate((x_credit_treinamento, x_credit_teste), axis=0)\n",
    "x_credit.shape"
   ]
  },
  {
   "cell_type": "code",
   "execution_count": 11,
   "metadata": {},
   "outputs": [
    {
     "data": {
      "text/plain": [
       "(2000,)"
      ]
     },
     "execution_count": 11,
     "metadata": {},
     "output_type": "execute_result"
    }
   ],
   "source": [
    "y_credit = np.concatenate((y_credit_treinamento, y_credit_teste),axis=0 )\n",
    "y_credit.shape"
   ]
  },
  {
   "cell_type": "markdown",
   "metadata": {},
   "source": [
    "## Validação Cruzada"
   ]
  },
  {
   "cell_type": "code",
   "execution_count": 12,
   "metadata": {},
   "outputs": [],
   "source": [
    "#  a cada ve que se executa uma validação cruzada, há 10 KFolds (amostras)"
   ]
  },
  {
   "cell_type": "code",
   "execution_count": 13,
   "metadata": {},
   "outputs": [],
   "source": [
    "resultados_arvore = []\n",
    "resultados_random_forest = []\n",
    "resultados_knn = []\n",
    "resultados_logistica = []\n",
    "resultados_svm = []\n",
    "resultados_rede_neural = []\n",
    "\n",
    "for i in range(30): # logo, serão 300 testes (10*30)\n",
    "    kfold = KFold(n_splits=10, shuffle=True, random_state=i)\n",
    "\n",
    "## Decision Trees\n",
    "    arvore = DecisionTreeClassifier(criterion='entropy', min_samples_leaf=1, min_samples_split=5, splitter='best') # criterios conhecidos no ajuste dos parametros\n",
    "    scores = cross_val_score(arvore, x_credit, y_credit, cv=kfold)\n",
    "\n",
    "    # print(scores)\n",
    "    # print(scores.mean())\n",
    "    resultados_arvore.append(scores.mean())\n",
    "\n",
    "## Random Forest\n",
    "    random_forest = DecisionTreeClassifier(criterion='entropy', min_samples_leaf=1, min_samples_split=5, splitter='best') # criterios conhecidos no ajuste dos parametros\n",
    "    scores = cross_val_score(random_forest, x_credit, y_credit, cv=kfold)\n",
    "\n",
    "    resultados_random_forest.append(scores.mean())\n",
    "\n",
    "## KNN\n",
    "    knn = KNeighborsClassifier()\n",
    "    scores = cross_val_score(random_forest, x_credit, y_credit, cv=kfold)\n",
    "    resultados_knn.append(scores.mean())\n",
    "\n",
    "## Logistica\n",
    "    logistica = LogisticRegression(C = 1.0, solver = 'lbfgs', tol = 0.0001)\n",
    "    scores = cross_val_score(logistica, x_credit, y_credit, cv=kfold)\n",
    "    resultados_logistica.append(scores.mean())\n",
    "\n",
    "## SVM\n",
    "    svm = SVC(kernel='rbf', C=2.0)\n",
    "    scores = cross_val_score(svm, x_credit, y_credit, cv=kfold)\n",
    "    resultados_svm.append(scores.mean())\n",
    "\n",
    "## Redes Neurais\n",
    "# não vou rodar pra não ficar muito pesado, mas a ideia é a mesma\n"
   ]
  },
  {
   "cell_type": "code",
   "execution_count": 14,
   "metadata": {},
   "outputs": [
    {
     "name": "stdout",
     "output_type": "stream",
     "text": [
      "Decision Tree:\n"
     ]
    },
    {
     "data": {
      "text/plain": [
       "[0.9864999999999998,\n",
       " 0.986,\n",
       " 0.9905000000000002,\n",
       " 0.9875,\n",
       " 0.9879999999999999,\n",
       " 0.9890000000000001,\n",
       " 0.9880000000000001,\n",
       " 0.9875,\n",
       " 0.9865,\n",
       " 0.9869999999999999,\n",
       " 0.9865,\n",
       " 0.9899999999999999,\n",
       " 0.9884999999999999,\n",
       " 0.9864999999999998,\n",
       " 0.9835,\n",
       " 0.986,\n",
       " 0.9855,\n",
       " 0.9904999999999999,\n",
       " 0.9875,\n",
       " 0.9869999999999999,\n",
       " 0.983,\n",
       " 0.9870000000000001,\n",
       " 0.9889999999999999,\n",
       " 0.9869999999999999,\n",
       " 0.9865,\n",
       " 0.9880000000000001,\n",
       " 0.9879999999999999,\n",
       " 0.986,\n",
       " 0.986,\n",
       " 0.9875]"
      ]
     },
     "execution_count": 14,
     "metadata": {},
     "output_type": "execute_result"
    }
   ],
   "source": [
    "# média de cada linha dos resultados -- print(scores)\n",
    "print('Decision Tree:')\n",
    "resultados_arvore"
   ]
  },
  {
   "cell_type": "code",
   "execution_count": 15,
   "metadata": {},
   "outputs": [
    {
     "name": "stdout",
     "output_type": "stream",
     "text": [
      "Random Forest:\n"
     ]
    },
    {
     "data": {
      "text/plain": [
       "[0.9869999999999999,\n",
       " 0.985,\n",
       " 0.9905000000000002,\n",
       " 0.9869999999999999,\n",
       " 0.9884999999999999,\n",
       " 0.9884999999999999,\n",
       " 0.9880000000000001,\n",
       " 0.9875,\n",
       " 0.9870000000000001,\n",
       " 0.9869999999999999,\n",
       " 0.9860000000000001,\n",
       " 0.9894999999999999,\n",
       " 0.9884999999999999,\n",
       " 0.9864999999999998,\n",
       " 0.9845,\n",
       " 0.9859999999999998,\n",
       " 0.9855,\n",
       " 0.9904999999999999,\n",
       " 0.9875,\n",
       " 0.9869999999999999,\n",
       " 0.985,\n",
       " 0.9865,\n",
       " 0.9884999999999999,\n",
       " 0.9875,\n",
       " 0.9870000000000001,\n",
       " 0.9880000000000001,\n",
       " 0.9875,\n",
       " 0.986,\n",
       " 0.9869999999999999,\n",
       " 0.9884999999999999]"
      ]
     },
     "execution_count": 15,
     "metadata": {},
     "output_type": "execute_result"
    }
   ],
   "source": [
    "print('Random Forest:')\n",
    "resultados_random_forest"
   ]
  },
  {
   "cell_type": "code",
   "execution_count": 16,
   "metadata": {},
   "outputs": [
    {
     "name": "stdout",
     "output_type": "stream",
     "text": [
      "KNN:\n"
     ]
    },
    {
     "data": {
      "text/plain": [
       "[0.9864999999999998,\n",
       " 0.986,\n",
       " 0.9905000000000002,\n",
       " 0.9875,\n",
       " 0.9884999999999999,\n",
       " 0.9884999999999999,\n",
       " 0.9884999999999999,\n",
       " 0.9875,\n",
       " 0.9865,\n",
       " 0.9869999999999999,\n",
       " 0.9860000000000001,\n",
       " 0.9894999999999999,\n",
       " 0.9889999999999999,\n",
       " 0.9864999999999998,\n",
       " 0.9825000000000002,\n",
       " 0.9864999999999998,\n",
       " 0.9855,\n",
       " 0.9904999999999999,\n",
       " 0.9875,\n",
       " 0.9869999999999999,\n",
       " 0.984,\n",
       " 0.9865,\n",
       " 0.9884999999999999,\n",
       " 0.9869999999999999,\n",
       " 0.9865,\n",
       " 0.9884999999999999,\n",
       " 0.9879999999999999,\n",
       " 0.986,\n",
       " 0.9864999999999998,\n",
       " 0.9880000000000001]"
      ]
     },
     "execution_count": 16,
     "metadata": {},
     "output_type": "execute_result"
    }
   ],
   "source": [
    "print('KNN:')\n",
    "resultados_knn"
   ]
  },
  {
   "cell_type": "code",
   "execution_count": 17,
   "metadata": {},
   "outputs": [
    {
     "name": "stdout",
     "output_type": "stream",
     "text": [
      "Regressão Logística:\n"
     ]
    },
    {
     "data": {
      "text/plain": [
       "[0.9475,\n",
       " 0.9465,\n",
       " 0.9470000000000001,\n",
       " 0.946,\n",
       " 0.9465,\n",
       " 0.9465,\n",
       " 0.9469999999999998,\n",
       " 0.9480000000000001,\n",
       " 0.9465,\n",
       " 0.9465,\n",
       " 0.9475,\n",
       " 0.9479999999999998,\n",
       " 0.9475,\n",
       " 0.9475,\n",
       " 0.9484999999999999,\n",
       " 0.9475,\n",
       " 0.946,\n",
       " 0.9470000000000001,\n",
       " 0.9465,\n",
       " 0.9464999999999998,\n",
       " 0.9465,\n",
       " 0.9469999999999998,\n",
       " 0.9455,\n",
       " 0.9465,\n",
       " 0.9470000000000001,\n",
       " 0.9469999999999998,\n",
       " 0.9475,\n",
       " 0.9465,\n",
       " 0.9480000000000001,\n",
       " 0.9465]"
      ]
     },
     "execution_count": 17,
     "metadata": {},
     "output_type": "execute_result"
    }
   ],
   "source": [
    "print('Regressão Logística:')\n",
    "resultados_logistica"
   ]
  },
  {
   "cell_type": "code",
   "execution_count": 18,
   "metadata": {},
   "outputs": [
    {
     "name": "stdout",
     "output_type": "stream",
     "text": [
      "SVM:\n"
     ]
    },
    {
     "data": {
      "text/plain": [
       "[0.9845,\n",
       " 0.984,\n",
       " 0.9864999999999998,\n",
       " 0.985,\n",
       " 0.985,\n",
       " 0.9845,\n",
       " 0.986,\n",
       " 0.9849999999999998,\n",
       " 0.984,\n",
       " 0.9845,\n",
       " 0.984,\n",
       " 0.9845,\n",
       " 0.9855,\n",
       " 0.9855,\n",
       " 0.983,\n",
       " 0.9865,\n",
       " 0.986,\n",
       " 0.9865,\n",
       " 0.985,\n",
       " 0.9844999999999999,\n",
       " 0.984,\n",
       " 0.985,\n",
       " 0.9865,\n",
       " 0.9875,\n",
       " 0.9869999999999999,\n",
       " 0.982,\n",
       " 0.984,\n",
       " 0.9865,\n",
       " 0.9834999999999999,\n",
       " 0.9865]"
      ]
     },
     "execution_count": 18,
     "metadata": {},
     "output_type": "execute_result"
    }
   ],
   "source": [
    "\n",
    "print('SVM:')\n",
    "resultados_svm"
   ]
  },
  {
   "cell_type": "markdown",
   "metadata": {},
   "source": [
    "#### Avaliando os resultados"
   ]
  },
  {
   "cell_type": "code",
   "execution_count": 20,
   "metadata": {},
   "outputs": [],
   "source": [
    "resultados = pd.DataFrame({'Decision Tree': resultados_arvore, 'Random Forest': resultados_random_forest, 'KNN': resultados_knn,\n",
    "                          'Logistica': resultados_logistica, 'SVM': resultados_svm})"
   ]
  },
  {
   "cell_type": "code",
   "execution_count": 21,
   "metadata": {},
   "outputs": [
    {
     "data": {
      "text/html": [
       "<div>\n",
       "<style scoped>\n",
       "    .dataframe tbody tr th:only-of-type {\n",
       "        vertical-align: middle;\n",
       "    }\n",
       "\n",
       "    .dataframe tbody tr th {\n",
       "        vertical-align: top;\n",
       "    }\n",
       "\n",
       "    .dataframe thead th {\n",
       "        text-align: right;\n",
       "    }\n",
       "</style>\n",
       "<table border=\"1\" class=\"dataframe\">\n",
       "  <thead>\n",
       "    <tr style=\"text-align: right;\">\n",
       "      <th></th>\n",
       "      <th>Decision Tree</th>\n",
       "      <th>Random Forest</th>\n",
       "      <th>KNN</th>\n",
       "      <th>Logistica</th>\n",
       "      <th>SVM</th>\n",
       "    </tr>\n",
       "  </thead>\n",
       "  <tbody>\n",
       "    <tr>\n",
       "      <th>0</th>\n",
       "      <td>0.9865</td>\n",
       "      <td>0.9870</td>\n",
       "      <td>0.9865</td>\n",
       "      <td>0.9475</td>\n",
       "      <td>0.9845</td>\n",
       "    </tr>\n",
       "    <tr>\n",
       "      <th>1</th>\n",
       "      <td>0.9860</td>\n",
       "      <td>0.9850</td>\n",
       "      <td>0.9860</td>\n",
       "      <td>0.9465</td>\n",
       "      <td>0.9840</td>\n",
       "    </tr>\n",
       "    <tr>\n",
       "      <th>2</th>\n",
       "      <td>0.9905</td>\n",
       "      <td>0.9905</td>\n",
       "      <td>0.9905</td>\n",
       "      <td>0.9470</td>\n",
       "      <td>0.9865</td>\n",
       "    </tr>\n",
       "    <tr>\n",
       "      <th>3</th>\n",
       "      <td>0.9875</td>\n",
       "      <td>0.9870</td>\n",
       "      <td>0.9875</td>\n",
       "      <td>0.9460</td>\n",
       "      <td>0.9850</td>\n",
       "    </tr>\n",
       "    <tr>\n",
       "      <th>4</th>\n",
       "      <td>0.9880</td>\n",
       "      <td>0.9885</td>\n",
       "      <td>0.9885</td>\n",
       "      <td>0.9465</td>\n",
       "      <td>0.9850</td>\n",
       "    </tr>\n",
       "    <tr>\n",
       "      <th>5</th>\n",
       "      <td>0.9890</td>\n",
       "      <td>0.9885</td>\n",
       "      <td>0.9885</td>\n",
       "      <td>0.9465</td>\n",
       "      <td>0.9845</td>\n",
       "    </tr>\n",
       "    <tr>\n",
       "      <th>6</th>\n",
       "      <td>0.9880</td>\n",
       "      <td>0.9880</td>\n",
       "      <td>0.9885</td>\n",
       "      <td>0.9470</td>\n",
       "      <td>0.9860</td>\n",
       "    </tr>\n",
       "    <tr>\n",
       "      <th>7</th>\n",
       "      <td>0.9875</td>\n",
       "      <td>0.9875</td>\n",
       "      <td>0.9875</td>\n",
       "      <td>0.9480</td>\n",
       "      <td>0.9850</td>\n",
       "    </tr>\n",
       "    <tr>\n",
       "      <th>8</th>\n",
       "      <td>0.9865</td>\n",
       "      <td>0.9870</td>\n",
       "      <td>0.9865</td>\n",
       "      <td>0.9465</td>\n",
       "      <td>0.9840</td>\n",
       "    </tr>\n",
       "    <tr>\n",
       "      <th>9</th>\n",
       "      <td>0.9870</td>\n",
       "      <td>0.9870</td>\n",
       "      <td>0.9870</td>\n",
       "      <td>0.9465</td>\n",
       "      <td>0.9845</td>\n",
       "    </tr>\n",
       "    <tr>\n",
       "      <th>10</th>\n",
       "      <td>0.9865</td>\n",
       "      <td>0.9860</td>\n",
       "      <td>0.9860</td>\n",
       "      <td>0.9475</td>\n",
       "      <td>0.9840</td>\n",
       "    </tr>\n",
       "    <tr>\n",
       "      <th>11</th>\n",
       "      <td>0.9900</td>\n",
       "      <td>0.9895</td>\n",
       "      <td>0.9895</td>\n",
       "      <td>0.9480</td>\n",
       "      <td>0.9845</td>\n",
       "    </tr>\n",
       "    <tr>\n",
       "      <th>12</th>\n",
       "      <td>0.9885</td>\n",
       "      <td>0.9885</td>\n",
       "      <td>0.9890</td>\n",
       "      <td>0.9475</td>\n",
       "      <td>0.9855</td>\n",
       "    </tr>\n",
       "    <tr>\n",
       "      <th>13</th>\n",
       "      <td>0.9865</td>\n",
       "      <td>0.9865</td>\n",
       "      <td>0.9865</td>\n",
       "      <td>0.9475</td>\n",
       "      <td>0.9855</td>\n",
       "    </tr>\n",
       "    <tr>\n",
       "      <th>14</th>\n",
       "      <td>0.9835</td>\n",
       "      <td>0.9845</td>\n",
       "      <td>0.9825</td>\n",
       "      <td>0.9485</td>\n",
       "      <td>0.9830</td>\n",
       "    </tr>\n",
       "    <tr>\n",
       "      <th>15</th>\n",
       "      <td>0.9860</td>\n",
       "      <td>0.9860</td>\n",
       "      <td>0.9865</td>\n",
       "      <td>0.9475</td>\n",
       "      <td>0.9865</td>\n",
       "    </tr>\n",
       "    <tr>\n",
       "      <th>16</th>\n",
       "      <td>0.9855</td>\n",
       "      <td>0.9855</td>\n",
       "      <td>0.9855</td>\n",
       "      <td>0.9460</td>\n",
       "      <td>0.9860</td>\n",
       "    </tr>\n",
       "    <tr>\n",
       "      <th>17</th>\n",
       "      <td>0.9905</td>\n",
       "      <td>0.9905</td>\n",
       "      <td>0.9905</td>\n",
       "      <td>0.9470</td>\n",
       "      <td>0.9865</td>\n",
       "    </tr>\n",
       "    <tr>\n",
       "      <th>18</th>\n",
       "      <td>0.9875</td>\n",
       "      <td>0.9875</td>\n",
       "      <td>0.9875</td>\n",
       "      <td>0.9465</td>\n",
       "      <td>0.9850</td>\n",
       "    </tr>\n",
       "    <tr>\n",
       "      <th>19</th>\n",
       "      <td>0.9870</td>\n",
       "      <td>0.9870</td>\n",
       "      <td>0.9870</td>\n",
       "      <td>0.9465</td>\n",
       "      <td>0.9845</td>\n",
       "    </tr>\n",
       "    <tr>\n",
       "      <th>20</th>\n",
       "      <td>0.9830</td>\n",
       "      <td>0.9850</td>\n",
       "      <td>0.9840</td>\n",
       "      <td>0.9465</td>\n",
       "      <td>0.9840</td>\n",
       "    </tr>\n",
       "    <tr>\n",
       "      <th>21</th>\n",
       "      <td>0.9870</td>\n",
       "      <td>0.9865</td>\n",
       "      <td>0.9865</td>\n",
       "      <td>0.9470</td>\n",
       "      <td>0.9850</td>\n",
       "    </tr>\n",
       "    <tr>\n",
       "      <th>22</th>\n",
       "      <td>0.9890</td>\n",
       "      <td>0.9885</td>\n",
       "      <td>0.9885</td>\n",
       "      <td>0.9455</td>\n",
       "      <td>0.9865</td>\n",
       "    </tr>\n",
       "    <tr>\n",
       "      <th>23</th>\n",
       "      <td>0.9870</td>\n",
       "      <td>0.9875</td>\n",
       "      <td>0.9870</td>\n",
       "      <td>0.9465</td>\n",
       "      <td>0.9875</td>\n",
       "    </tr>\n",
       "    <tr>\n",
       "      <th>24</th>\n",
       "      <td>0.9865</td>\n",
       "      <td>0.9870</td>\n",
       "      <td>0.9865</td>\n",
       "      <td>0.9470</td>\n",
       "      <td>0.9870</td>\n",
       "    </tr>\n",
       "    <tr>\n",
       "      <th>25</th>\n",
       "      <td>0.9880</td>\n",
       "      <td>0.9880</td>\n",
       "      <td>0.9885</td>\n",
       "      <td>0.9470</td>\n",
       "      <td>0.9820</td>\n",
       "    </tr>\n",
       "    <tr>\n",
       "      <th>26</th>\n",
       "      <td>0.9880</td>\n",
       "      <td>0.9875</td>\n",
       "      <td>0.9880</td>\n",
       "      <td>0.9475</td>\n",
       "      <td>0.9840</td>\n",
       "    </tr>\n",
       "    <tr>\n",
       "      <th>27</th>\n",
       "      <td>0.9860</td>\n",
       "      <td>0.9860</td>\n",
       "      <td>0.9860</td>\n",
       "      <td>0.9465</td>\n",
       "      <td>0.9865</td>\n",
       "    </tr>\n",
       "    <tr>\n",
       "      <th>28</th>\n",
       "      <td>0.9860</td>\n",
       "      <td>0.9870</td>\n",
       "      <td>0.9865</td>\n",
       "      <td>0.9480</td>\n",
       "      <td>0.9835</td>\n",
       "    </tr>\n",
       "    <tr>\n",
       "      <th>29</th>\n",
       "      <td>0.9875</td>\n",
       "      <td>0.9885</td>\n",
       "      <td>0.9880</td>\n",
       "      <td>0.9465</td>\n",
       "      <td>0.9865</td>\n",
       "    </tr>\n",
       "  </tbody>\n",
       "</table>\n",
       "</div>"
      ],
      "text/plain": [
       "    Decision Tree  Random Forest     KNN  Logistica     SVM\n",
       "0          0.9865         0.9870  0.9865     0.9475  0.9845\n",
       "1          0.9860         0.9850  0.9860     0.9465  0.9840\n",
       "2          0.9905         0.9905  0.9905     0.9470  0.9865\n",
       "3          0.9875         0.9870  0.9875     0.9460  0.9850\n",
       "4          0.9880         0.9885  0.9885     0.9465  0.9850\n",
       "5          0.9890         0.9885  0.9885     0.9465  0.9845\n",
       "6          0.9880         0.9880  0.9885     0.9470  0.9860\n",
       "7          0.9875         0.9875  0.9875     0.9480  0.9850\n",
       "8          0.9865         0.9870  0.9865     0.9465  0.9840\n",
       "9          0.9870         0.9870  0.9870     0.9465  0.9845\n",
       "10         0.9865         0.9860  0.9860     0.9475  0.9840\n",
       "11         0.9900         0.9895  0.9895     0.9480  0.9845\n",
       "12         0.9885         0.9885  0.9890     0.9475  0.9855\n",
       "13         0.9865         0.9865  0.9865     0.9475  0.9855\n",
       "14         0.9835         0.9845  0.9825     0.9485  0.9830\n",
       "15         0.9860         0.9860  0.9865     0.9475  0.9865\n",
       "16         0.9855         0.9855  0.9855     0.9460  0.9860\n",
       "17         0.9905         0.9905  0.9905     0.9470  0.9865\n",
       "18         0.9875         0.9875  0.9875     0.9465  0.9850\n",
       "19         0.9870         0.9870  0.9870     0.9465  0.9845\n",
       "20         0.9830         0.9850  0.9840     0.9465  0.9840\n",
       "21         0.9870         0.9865  0.9865     0.9470  0.9850\n",
       "22         0.9890         0.9885  0.9885     0.9455  0.9865\n",
       "23         0.9870         0.9875  0.9870     0.9465  0.9875\n",
       "24         0.9865         0.9870  0.9865     0.9470  0.9870\n",
       "25         0.9880         0.9880  0.9885     0.9470  0.9820\n",
       "26         0.9880         0.9875  0.9880     0.9475  0.9840\n",
       "27         0.9860         0.9860  0.9860     0.9465  0.9865\n",
       "28         0.9860         0.9870  0.9865     0.9480  0.9835\n",
       "29         0.9875         0.9885  0.9880     0.9465  0.9865"
      ]
     },
     "execution_count": 21,
     "metadata": {},
     "output_type": "execute_result"
    }
   ],
   "source": [
    "resultados"
   ]
  },
  {
   "cell_type": "code",
   "execution_count": 22,
   "metadata": {},
   "outputs": [
    {
     "data": {
      "text/html": [
       "<div>\n",
       "<style scoped>\n",
       "    .dataframe tbody tr th:only-of-type {\n",
       "        vertical-align: middle;\n",
       "    }\n",
       "\n",
       "    .dataframe tbody tr th {\n",
       "        vertical-align: top;\n",
       "    }\n",
       "\n",
       "    .dataframe thead th {\n",
       "        text-align: right;\n",
       "    }\n",
       "</style>\n",
       "<table border=\"1\" class=\"dataframe\">\n",
       "  <thead>\n",
       "    <tr style=\"text-align: right;\">\n",
       "      <th></th>\n",
       "      <th>Decision Tree</th>\n",
       "      <th>Random Forest</th>\n",
       "      <th>KNN</th>\n",
       "      <th>Logistica</th>\n",
       "      <th>SVM</th>\n",
       "    </tr>\n",
       "  </thead>\n",
       "  <tbody>\n",
       "    <tr>\n",
       "      <th>count</th>\n",
       "      <td>30.000000</td>\n",
       "      <td>30.000000</td>\n",
       "      <td>30.000000</td>\n",
       "      <td>30.000000</td>\n",
       "      <td>30.000000</td>\n",
       "    </tr>\n",
       "    <tr>\n",
       "      <th>mean</th>\n",
       "      <td>0.987200</td>\n",
       "      <td>0.987300</td>\n",
       "      <td>0.987233</td>\n",
       "      <td>0.946950</td>\n",
       "      <td>0.985083</td>\n",
       "    </tr>\n",
       "    <tr>\n",
       "      <th>std</th>\n",
       "      <td>0.001695</td>\n",
       "      <td>0.001466</td>\n",
       "      <td>0.001695</td>\n",
       "      <td>0.000687</td>\n",
       "      <td>0.001280</td>\n",
       "    </tr>\n",
       "    <tr>\n",
       "      <th>min</th>\n",
       "      <td>0.983000</td>\n",
       "      <td>0.984500</td>\n",
       "      <td>0.982500</td>\n",
       "      <td>0.945500</td>\n",
       "      <td>0.982000</td>\n",
       "    </tr>\n",
       "    <tr>\n",
       "      <th>25%</th>\n",
       "      <td>0.986500</td>\n",
       "      <td>0.986500</td>\n",
       "      <td>0.986500</td>\n",
       "      <td>0.946500</td>\n",
       "      <td>0.984125</td>\n",
       "    </tr>\n",
       "    <tr>\n",
       "      <th>50%</th>\n",
       "      <td>0.987000</td>\n",
       "      <td>0.987000</td>\n",
       "      <td>0.987000</td>\n",
       "      <td>0.947000</td>\n",
       "      <td>0.985000</td>\n",
       "    </tr>\n",
       "    <tr>\n",
       "      <th>75%</th>\n",
       "      <td>0.988000</td>\n",
       "      <td>0.988375</td>\n",
       "      <td>0.988500</td>\n",
       "      <td>0.947500</td>\n",
       "      <td>0.986375</td>\n",
       "    </tr>\n",
       "    <tr>\n",
       "      <th>max</th>\n",
       "      <td>0.990500</td>\n",
       "      <td>0.990500</td>\n",
       "      <td>0.990500</td>\n",
       "      <td>0.948500</td>\n",
       "      <td>0.987500</td>\n",
       "    </tr>\n",
       "  </tbody>\n",
       "</table>\n",
       "</div>"
      ],
      "text/plain": [
       "       Decision Tree  Random Forest        KNN  Logistica        SVM\n",
       "count      30.000000      30.000000  30.000000  30.000000  30.000000\n",
       "mean        0.987200       0.987300   0.987233   0.946950   0.985083\n",
       "std         0.001695       0.001466   0.001695   0.000687   0.001280\n",
       "min         0.983000       0.984500   0.982500   0.945500   0.982000\n",
       "25%         0.986500       0.986500   0.986500   0.946500   0.984125\n",
       "50%         0.987000       0.987000   0.987000   0.947000   0.985000\n",
       "75%         0.988000       0.988375   0.988500   0.947500   0.986375\n",
       "max         0.990500       0.990500   0.990500   0.948500   0.987500"
      ]
     },
     "execution_count": 22,
     "metadata": {},
     "output_type": "execute_result"
    }
   ],
   "source": [
    "resultados.describe()"
   ]
  },
  {
   "cell_type": "code",
   "execution_count": 23,
   "metadata": {},
   "outputs": [
    {
     "data": {
      "text/plain": [
       "Decision Tree    2.872414e-06\n",
       "Random Forest    2.148276e-06\n",
       "KNN              2.874713e-06\n",
       "Logistica        4.715517e-07\n",
       "SVM              1.639368e-06\n",
       "dtype: float64"
      ]
     },
     "execution_count": 23,
     "metadata": {},
     "output_type": "execute_result"
    }
   ],
   "source": [
    "resultados.var()"
   ]
  },
  {
   "cell_type": "code",
   "execution_count": 25,
   "metadata": {},
   "outputs": [
    {
     "data": {
      "text/plain": [
       "Decision Tree    0.171679\n",
       "Random Forest    0.148455\n",
       "KNN              0.171742\n",
       "Logistica        0.072517\n",
       "SVM              0.129977\n",
       "dtype: float64"
      ]
     },
     "execution_count": 25,
     "metadata": {},
     "output_type": "execute_result"
    }
   ],
   "source": [
    "cv = resultados.std() / resultados.mean() * 100\n",
    "cv"
   ]
  }
 ],
 "metadata": {
  "interpreter": {
   "hash": "31f2aee4e71d21fbe5cf8b01ff0e069b9275f58929596ceb00d14d90e3e16cd6"
  },
  "kernelspec": {
   "display_name": "Python 3.8.9 64-bit",
   "language": "python",
   "name": "python3"
  },
  "language_info": {
   "codemirror_mode": {
    "name": "ipython",
    "version": 3
   },
   "file_extension": ".py",
   "mimetype": "text/x-python",
   "name": "python",
   "nbconvert_exporter": "python",
   "pygments_lexer": "ipython3",
   "version": "3.8.9"
  },
  "orig_nbformat": 4
 },
 "nbformat": 4,
 "nbformat_minor": 2
}
