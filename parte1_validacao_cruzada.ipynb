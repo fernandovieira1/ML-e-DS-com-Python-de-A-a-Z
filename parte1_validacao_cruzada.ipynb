{
 "cells": [
  {
   "cell_type": "code",
   "execution_count": 23,
   "metadata": {},
   "outputs": [],
   "source": [
    "from sklearn.model_selection import cross_val_predict, cross_val_score, KFold\n",
    "\n",
    "from sklearn.tree import DecisionTreeClassifier\n",
    "from sklearn.ensemble import RandomForestClassifier\n",
    "from sklearn.neighbors import KNeighborsClassifier\n",
    "from sklearn.linear_model import LogisticRegression\n",
    "from sklearn.svm import SVC\n",
    "from sklearn.neural_network import MLPClassifier"
   ]
  },
  {
   "cell_type": "markdown",
   "metadata": {},
   "source": [
    "## Preparacao dos dados"
   ]
  },
  {
   "cell_type": "code",
   "execution_count": 24,
   "metadata": {},
   "outputs": [],
   "source": [
    "import pickle\n",
    "with open('credit.pkl', 'rb') as f:\n",
    "  x_credit_treinamento, y_credit_treinamento, x_credit_teste, y_credit_teste =pickle.load(f)"
   ]
  },
  {
   "cell_type": "code",
   "execution_count": 25,
   "metadata": {},
   "outputs": [
    {
     "data": {
      "text/plain": [
       "((1500, 3), (1500,))"
      ]
     },
     "execution_count": 25,
     "metadata": {},
     "output_type": "execute_result"
    }
   ],
   "source": [
    "x_credit_treinamento.shape, y_credit_treinamento.shape"
   ]
  },
  {
   "cell_type": "code",
   "execution_count": 26,
   "metadata": {},
   "outputs": [
    {
     "data": {
      "text/plain": [
       "((500, 3), (500,))"
      ]
     },
     "execution_count": 26,
     "metadata": {},
     "output_type": "execute_result"
    }
   ],
   "source": [
    "x_credit_teste.shape, y_credit_teste.shape"
   ]
  },
  {
   "cell_type": "code",
   "execution_count": 27,
   "metadata": {},
   "outputs": [
    {
     "data": {
      "text/plain": [
       "(2000, 3)"
      ]
     },
     "execution_count": 27,
     "metadata": {},
     "output_type": "execute_result"
    }
   ],
   "source": [
    "# como faremos a selecao ods parametros por KFold, vamos juntar as bass\n",
    "x_credit = np.concatenate((x_credit_treinamento, x_credit_teste), axis=0)\n",
    "x_credit.shape"
   ]
  },
  {
   "cell_type": "code",
   "execution_count": 28,
   "metadata": {},
   "outputs": [
    {
     "data": {
      "text/plain": [
       "(2000,)"
      ]
     },
     "execution_count": 28,
     "metadata": {},
     "output_type": "execute_result"
    }
   ],
   "source": [
    "y_credit = np.concatenate((y_credit_treinamento, y_credit_teste),axis=0 )\n",
    "y_credit.shape"
   ]
  },
  {
   "cell_type": "markdown",
   "metadata": {},
   "source": [
    "## Validação Cruzada"
   ]
  },
  {
   "cell_type": "code",
   "execution_count": null,
   "metadata": {},
   "outputs": [],
   "source": [
    "#  a cada ve que se executa uma validação cruzada, há 10 KFolds (amostras)"
   ]
  },
  {
   "cell_type": "code",
   "execution_count": 29,
   "metadata": {},
   "outputs": [],
   "source": [
    "resultados_arvore = []\n",
    "resultados_random_forest = []\n",
    "resultados_knn = []\n",
    "resultados_logistica = []\n",
    "resultados_svm = []\n",
    "resultados_rede_neural = []\n",
    "\n",
    "for i in range(30): # logo, serão 300 testes (10*30)\n",
    "    kfold = KFold(n_splits=10, shuffle=True, random_state=i)\n",
    "\n",
    "## Decision Trees\n",
    "    arvore = DecisionTreeClassifier(criterion='entropy', min_samples_leaf=1, min_samples_split=5, splitter='best') # criterios conhecidos no ajuste dos parametros\n",
    "    scores = cross_val_score(arvore, x_credit, y_credit, cv=kfold)\n",
    "\n",
    "    # print(scores)\n",
    "    # print(scores.mean())\n",
    "    resultados_arvore.append(scores.mean())\n",
    "\n",
    "## Random Forest\n",
    "    random_forest = DecisionTreeClassifier(criterion='entropy', min_samples_leaf=1, min_samples_split=5, splitter='best') # criterios conhecidos no ajuste dos parametros\n",
    "    scores = cross_val_score(random_forest, x_credit, y_credit, cv=kfold)\n",
    "\n",
    "    resultados_random_forest.append(scores.mean())\n",
    "\n",
    "## KNN\n",
    "    knn = KNeighborsClassifier()\n",
    "    scores = cross_val_score(random_forest, x_credit, y_credit, cv=kfold)\n",
    "    resultados_knn.append(scores.mean())\n",
    "\n",
    "## Logistica\n",
    "    logistica = LogisticRegression(C = 1.0, solver = 'lbfgs', tol = 0.0001)\n",
    "    scores = cross_val_score(logistica, x_credit, y_credit, cv=kfold)\n",
    "    resultados_logistica.append(scores.mean())\n",
    "\n",
    "## SVM\n",
    "    svm = SVC(kernel='rbf', C=2.0)\n",
    "    scores = cross_val_score(svm, x_credit, y_credit, cv=kfold)\n",
    "    resultados_svm.append(scores.mean())\n",
    "\n",
    "## Redes Neurais\n",
    "# não vou rodar pra não ficar muito pesado, mas a ideia é a mesma\n"
   ]
  },
  {
   "cell_type": "code",
   "execution_count": 30,
   "metadata": {},
   "outputs": [
    {
     "name": "stdout",
     "output_type": "stream",
     "text": [
      "Decision Tree:\n"
     ]
    },
    {
     "data": {
      "text/plain": [
       "[0.9864999999999998,\n",
       " 0.986,\n",
       " 0.9905000000000002,\n",
       " 0.9869999999999999,\n",
       " 0.9890000000000001,\n",
       " 0.9890000000000001,\n",
       " 0.9884999999999999,\n",
       " 0.9875,\n",
       " 0.9865,\n",
       " 0.9869999999999999,\n",
       " 0.9860000000000001,\n",
       " 0.9899999999999999,\n",
       " 0.9884999999999999,\n",
       " 0.9869999999999999,\n",
       " 0.985,\n",
       " 0.986,\n",
       " 0.9855,\n",
       " 0.9904999999999999,\n",
       " 0.9875,\n",
       " 0.9869999999999999,\n",
       " 0.984,\n",
       " 0.9865,\n",
       " 0.9889999999999999,\n",
       " 0.9875,\n",
       " 0.9880000000000001,\n",
       " 0.9880000000000001,\n",
       " 0.9879999999999999,\n",
       " 0.986,\n",
       " 0.9854999999999998,\n",
       " 0.9884999999999999]"
      ]
     },
     "execution_count": 30,
     "metadata": {},
     "output_type": "execute_result"
    }
   ],
   "source": [
    "# média de cada linha dos resultados -- print(scores)\n",
    "print('Decision Tree:')\n",
    "resultados_arvore"
   ]
  },
  {
   "cell_type": "code",
   "execution_count": 31,
   "metadata": {},
   "outputs": [
    {
     "name": "stdout",
     "output_type": "stream",
     "text": [
      "Random Forest:\n"
     ]
    },
    {
     "data": {
      "text/plain": [
       "[0.9869999999999999,\n",
       " 0.9844999999999999,\n",
       " 0.9905000000000002,\n",
       " 0.9869999999999999,\n",
       " 0.9884999999999999,\n",
       " 0.9884999999999999,\n",
       " 0.9880000000000001,\n",
       " 0.9875,\n",
       " 0.9865,\n",
       " 0.9869999999999999,\n",
       " 0.9865,\n",
       " 0.9899999999999999,\n",
       " 0.9889999999999999,\n",
       " 0.9869999999999999,\n",
       " 0.985,\n",
       " 0.9864999999999998,\n",
       " 0.9855,\n",
       " 0.9904999999999999,\n",
       " 0.9875,\n",
       " 0.9869999999999999,\n",
       " 0.983,\n",
       " 0.9865,\n",
       " 0.9889999999999999,\n",
       " 0.9869999999999999,\n",
       " 0.9880000000000001,\n",
       " 0.9880000000000001,\n",
       " 0.9879999999999999,\n",
       " 0.9855,\n",
       " 0.9864999999999998,\n",
       " 0.9884999999999999]"
      ]
     },
     "execution_count": 31,
     "metadata": {},
     "output_type": "execute_result"
    }
   ],
   "source": [
    "print('Random Forest:')\n",
    "resultados_random_forest"
   ]
  },
  {
   "cell_type": "code",
   "execution_count": 32,
   "metadata": {},
   "outputs": [
    {
     "name": "stdout",
     "output_type": "stream",
     "text": [
      "KNN:\n"
     ]
    },
    {
     "data": {
      "text/plain": [
       "[0.9864999999999998,\n",
       " 0.984,\n",
       " 0.9905000000000002,\n",
       " 0.9875,\n",
       " 0.9879999999999999,\n",
       " 0.9890000000000001,\n",
       " 0.9884999999999999,\n",
       " 0.9875,\n",
       " 0.9860000000000001,\n",
       " 0.9875,\n",
       " 0.9860000000000001,\n",
       " 0.9894999999999999,\n",
       " 0.9889999999999999,\n",
       " 0.9864999999999998,\n",
       " 0.984,\n",
       " 0.9859999999999998,\n",
       " 0.9855,\n",
       " 0.9904999999999999,\n",
       " 0.9875,\n",
       " 0.9869999999999999,\n",
       " 0.983,\n",
       " 0.9870000000000001,\n",
       " 0.9884999999999999,\n",
       " 0.9869999999999999,\n",
       " 0.9870000000000001,\n",
       " 0.9880000000000001,\n",
       " 0.9879999999999999,\n",
       " 0.986,\n",
       " 0.9864999999999998,\n",
       " 0.9875]"
      ]
     },
     "execution_count": 32,
     "metadata": {},
     "output_type": "execute_result"
    }
   ],
   "source": [
    "print('KNN:')\n",
    "resultados_knn"
   ]
  },
  {
   "cell_type": "code",
   "execution_count": 33,
   "metadata": {},
   "outputs": [
    {
     "name": "stdout",
     "output_type": "stream",
     "text": [
      "Regressão Logística:\n"
     ]
    },
    {
     "data": {
      "text/plain": [
       "[0.9475,\n",
       " 0.9465,\n",
       " 0.9470000000000001,\n",
       " 0.946,\n",
       " 0.9465,\n",
       " 0.9465,\n",
       " 0.9469999999999998,\n",
       " 0.9480000000000001,\n",
       " 0.9465,\n",
       " 0.9465,\n",
       " 0.9475,\n",
       " 0.9479999999999998,\n",
       " 0.9475,\n",
       " 0.9475,\n",
       " 0.9484999999999999,\n",
       " 0.9475,\n",
       " 0.946,\n",
       " 0.9470000000000001,\n",
       " 0.9465,\n",
       " 0.9464999999999998,\n",
       " 0.9465,\n",
       " 0.9469999999999998,\n",
       " 0.9455,\n",
       " 0.9465,\n",
       " 0.9470000000000001,\n",
       " 0.9469999999999998,\n",
       " 0.9475,\n",
       " 0.9465,\n",
       " 0.9480000000000001,\n",
       " 0.9465]"
      ]
     },
     "execution_count": 33,
     "metadata": {},
     "output_type": "execute_result"
    }
   ],
   "source": [
    "print('Regressão Logística:')\n",
    "resultados_logistica"
   ]
  },
  {
   "cell_type": "code",
   "execution_count": 34,
   "metadata": {},
   "outputs": [
    {
     "name": "stdout",
     "output_type": "stream",
     "text": [
      "SVM:\n"
     ]
    },
    {
     "data": {
      "text/plain": [
       "[0.9845,\n",
       " 0.984,\n",
       " 0.9864999999999998,\n",
       " 0.985,\n",
       " 0.985,\n",
       " 0.9845,\n",
       " 0.986,\n",
       " 0.9849999999999998,\n",
       " 0.984,\n",
       " 0.9845,\n",
       " 0.984,\n",
       " 0.9845,\n",
       " 0.9855,\n",
       " 0.9855,\n",
       " 0.983,\n",
       " 0.9865,\n",
       " 0.986,\n",
       " 0.9865,\n",
       " 0.985,\n",
       " 0.9844999999999999,\n",
       " 0.984,\n",
       " 0.985,\n",
       " 0.9865,\n",
       " 0.9875,\n",
       " 0.9869999999999999,\n",
       " 0.982,\n",
       " 0.984,\n",
       " 0.9865,\n",
       " 0.9834999999999999,\n",
       " 0.9865]"
      ]
     },
     "execution_count": 34,
     "metadata": {},
     "output_type": "execute_result"
    }
   ],
   "source": [
    "\n",
    "print('SVM:')\n",
    "resultados_svm"
   ]
  }
 ],
 "metadata": {
  "interpreter": {
   "hash": "31f2aee4e71d21fbe5cf8b01ff0e069b9275f58929596ceb00d14d90e3e16cd6"
  },
  "kernelspec": {
   "display_name": "Python 3.8.9 64-bit",
   "language": "python",
   "name": "python3"
  },
  "language_info": {
   "codemirror_mode": {
    "name": "ipython",
    "version": 3
   },
   "file_extension": ".py",
   "mimetype": "text/x-python",
   "name": "python",
   "nbconvert_exporter": "python",
   "pygments_lexer": "ipython3",
   "version": "3.8.9"
  },
  "orig_nbformat": 4
 },
 "nbformat": 4,
 "nbformat_minor": 2
}
