{
  "nbformat": 4,
  "nbformat_minor": 0,
  "metadata": {
    "colab": {
      "name": "parte1_classif_knn_census.ipynb",
      "provenance": [],
      "authorship_tag": "ABX9TyM0bK8iCncRsfv/VY4Kj2Hk",
      "include_colab_link": true
    },
    "kernelspec": {
      "display_name": "Python 3",
      "name": "python3"
    },
    "language_info": {
      "name": "python"
    }
  },
  "cells": [
    {
      "cell_type": "markdown",
      "metadata": {
        "id": "view-in-github",
        "colab_type": "text"
      },
      "source": [
        "<a href=\"https://colab.research.google.com/github/fernandovieira1/ML-e-DS-com-Python-de-A-a-Z/blob/master/parte1_classif_knn_census.ipynb\" target=\"_parent\"><img src=\"https://colab.research.google.com/assets/colab-badge.svg\" alt=\"Open In Colab\"/></a>"
      ]
    },
    {
      "cell_type": "markdown",
      "metadata": {
        "id": "1V_C1WzIekfQ"
      },
      "source": [
        "## census"
      ]
    },
    {
      "cell_type": "code",
      "metadata": {
        "id": "r3ZkVoytZgPl"
      },
      "source": [
        "from sklearn.neighbors import KNeighborsClassifier"
      ],
      "execution_count": null,
      "outputs": []
    },
    {
      "cell_type": "code",
      "metadata": {
        "id": "Nv99T9nEAezj"
      },
      "source": [
        "# from google.colab import files\n",
        "\n",
        "# uploaded = files.upload()\n",
        "\n",
        "# for fn in uploaded.keys():\n",
        "#   print('User uploaded file \"{name}\" with length {length} bytes'.format(\n",
        "#       name=fn, length=len(uploaded[fn])))"
      ],
      "execution_count": null,
      "outputs": []
    },
    {
      "cell_type": "code",
      "metadata": {
        "id": "Wjr5U-Io51fs"
      },
      "source": [
        "from google.colab import drive\n",
        "drive.mount('/content/drive')"
      ],
      "execution_count": null,
      "outputs": []
    },
    {
      "cell_type": "code",
      "metadata": {
        "id": "XT-pv2FF7Hrm"
      },
      "source": [
        "import pickle\n",
        "with open('census.pkl', 'rb') as f:\n",
        "  x_census_treinamento, y_census_treinamento, x_census_teste, y_census_teste = pickle.load(f)"
      ],
      "execution_count": null,
      "outputs": []
    },
    {
      "cell_type": "code",
      "metadata": {
        "id": "Tdr_wzc_Z5xH"
      },
      "source": [
        "x_census_treinamento.shape, y_census_treinamento.shape"
      ],
      "execution_count": null,
      "outputs": []
    },
    {
      "cell_type": "code",
      "metadata": {
        "id": "0eqfSEmvaG0h"
      },
      "source": [
        "x_census_teste.shape, y_census_teste.shape"
      ],
      "execution_count": null,
      "outputs": []
    },
    {
      "cell_type": "code",
      "metadata": {
        "id": "J3qoy_VMaOjy"
      },
      "source": [
        "knn_census = KNeighborsClassifier(n_neighbors=5, metric='minkowski', p=2) # valores padrao: se nao passar naa, nao faz diferenca\n",
        "knn_census.fit(x_census_treinamento, y_census_treinamento)"
      ],
      "execution_count": null,
      "outputs": []
    },
    {
      "cell_type": "code",
      "metadata": {
        "id": "W7_xyTQta_KV"
      },
      "source": [
        "previsoes = knn_census.predict(x_census_teste)\n",
        "previsoes"
      ],
      "execution_count": null,
      "outputs": []
    },
    {
      "cell_type": "code",
      "metadata": {
        "id": "mz7w4OqHbO55"
      },
      "source": [
        "y_census_teste"
      ],
      "execution_count": null,
      "outputs": []
    },
    {
      "cell_type": "code",
      "metadata": {
        "id": "3y9zwsUpbUBb"
      },
      "source": [
        "from sklearn.metrics import accuracy_score, classification_report\n",
        "accuracy_score(y_census_teste, previsoes)"
      ],
      "execution_count": null,
      "outputs": []
    },
    {
      "cell_type": "code",
      "metadata": {
        "id": "VKP4c7sUbjrr"
      },
      "source": [
        "print(classification_report(y_census_teste, previsoes))"
      ],
      "execution_count": null,
      "outputs": []
    },
    {
      "cell_type": "code",
      "metadata": {
        "id": "ljPW7ajodUIY"
      },
      "source": [
        "from yellowbrick.classifier import ConfusionMatrix\n",
        "cm = ConfusionMatrix(knn_census)\n",
        "cm.fit(x_census_treinamento, y_census_treinamento)\n",
        "cm.score(x_census_teste, y_census_teste)"
      ],
      "execution_count": null,
      "outputs": []
    }
  ]
}