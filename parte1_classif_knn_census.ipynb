{
  "nbformat": 4,
  "nbformat_minor": 0,
  "metadata": {
    "colab": {
      "name": "parte1_classif_knn_census.ipynb",
      "provenance": [],
      "include_colab_link": true
    },
    "kernelspec": {
      "display_name": "Python 3",
      "name": "python3"
    },
    "language_info": {
      "codemirror_mode": {
        "name": "ipython",
        "version": 3
      },
      "file_extension": ".py",
      "mimetype": "text/x-python",
      "name": "python",
      "nbconvert_exporter": "python",
      "pygments_lexer": "ipython3",
      "version": "3.8.9"
    }
  },
  "cells": [
    {
      "cell_type": "markdown",
      "metadata": {
        "id": "view-in-github",
        "colab_type": "text"
      },
      "source": [
        "<a href=\"https://colab.research.google.com/github/fernandovieira1/ML-e-DS-com-Python-de-A-a-Z/blob/master/parte1_classif_knn_census.ipynb\" target=\"_parent\"><img src=\"https://colab.research.google.com/assets/colab-badge.svg\" alt=\"Open In Colab\"/></a>"
      ]
    },
    {
      "cell_type": "markdown",
      "metadata": {
        "id": "1V_C1WzIekfQ"
      },
      "source": [
        "## census"
      ]
    },
    {
      "cell_type": "code",
      "metadata": {
        "id": "RKRI0EpdDkVx"
      },
      "source": [
        "import os # Oi, VSCode! Aqui e do Colab e quero saber se conseguimos trabalhar juntos"
      ],
      "execution_count": null,
      "outputs": []
    },
    {
      "cell_type": "code",
      "metadata": {
        "id": "r3ZkVoytZgPl"
      },
      "source": [
        "from sklearn.neighbors import KNeighborsClassifier # Sim, Colab, sem problemas!"
      ],
      "execution_count": null,
      "outputs": []
    },
    {
      "cell_type": "code",
      "metadata": {
        "id": "Nv99T9nEAezj"
      },
      "source": [
        "#### Legal. Mas nao esquece da comentar esta celula se for vc, tudo bem? ####\n",
        "\n",
        "## Importar o arquivo p/ Colab\n",
        "from google.colab import files\n",
        "\n",
        "uploaded = files.upload()\n",
        "\n",
        "for fn in uploaded.keys():\n",
        "  print('User uploaded file \"{name}\" with length {length} bytes'.format(\n",
        "      name=fn, length=len(uploaded[fn])))\n",
        "  \n",
        "## Acessar gDrive\n",
        "from google.colab import drive\n",
        "drive.mount('/content/drive')"
      ],
      "execution_count": null,
      "outputs": []
    },
    {
      "cell_type": "code",
      "metadata": {
        "id": "XT-pv2FF7Hrm"
      },
      "source": [
        "import pickle\n",
        "with open('census.pkl', 'rb') as f:\n",
        "  x_census_treinamento, y_census_treinamento, x_census_teste, y_census_teste = pickle.load(f)"
      ],
      "execution_count": null,
      "outputs": []
    },
    {
      "cell_type": "code",
      "metadata": {
        "id": "Tdr_wzc_Z5xH",
        "outputId": "15174ea9-b062-492b-c7ff-c5aa5206ad76"
      },
      "source": [
        "x_census_treinamento.shape, y_census_treinamento.shape"
      ],
      "execution_count": null,
      "outputs": [
        {
          "data": {
            "text/plain": [
              "((27676, 108), (27676,))"
            ]
          },
          "execution_count": 6,
          "metadata": {},
          "output_type": "execute_result"
        }
      ]
    },
    {
      "cell_type": "code",
      "metadata": {
        "id": "0eqfSEmvaG0h",
        "outputId": "209ac6a4-ead7-4ce0-bcc9-2d06c7c42387"
      },
      "source": [
        "x_census_teste.shape, y_census_teste.shape"
      ],
      "execution_count": null,
      "outputs": [
        {
          "data": {
            "text/plain": [
              "((4885, 108), (4885,))"
            ]
          },
          "execution_count": 7,
          "metadata": {},
          "output_type": "execute_result"
        }
      ]
    },
    {
      "cell_type": "code",
      "metadata": {
        "id": "J3qoy_VMaOjy",
        "outputId": "d4323ec2-274c-46ba-d1e1-55cd4ad32271"
      },
      "source": [
        "knn_census = KNeighborsClassifier(n_neighbors=10, metric='minkowski', p=2) # valores padrao: se nao passar naa, nao faz diferenca\n",
        "knn_census.fit(x_census_treinamento, y_census_treinamento)"
      ],
      "execution_count": null,
      "outputs": [
        {
          "data": {
            "text/plain": [
              "KNeighborsClassifier(n_neighbors=10)"
            ]
          },
          "execution_count": 14,
          "metadata": {},
          "output_type": "execute_result"
        }
      ]
    },
    {
      "cell_type": "code",
      "metadata": {
        "id": "W7_xyTQta_KV",
        "outputId": "1923ebb5-4904-4d04-85e9-57e588b65481"
      },
      "source": [
        "previsoes = knn_census.predict(x_census_teste)\n",
        "previsoes"
      ],
      "execution_count": null,
      "outputs": [
        {
          "data": {
            "text/plain": [
              "array([' <=50K', ' <=50K', ' <=50K', ..., ' <=50K', ' <=50K', ' >50K'],\n",
              "      dtype=object)"
            ]
          },
          "execution_count": 15,
          "metadata": {},
          "output_type": "execute_result"
        }
      ]
    },
    {
      "cell_type": "code",
      "metadata": {
        "id": "mz7w4OqHbO55",
        "outputId": "c14fed90-bb29-46d0-be39-b1f6f95eb06c"
      },
      "source": [
        "y_census_teste"
      ],
      "execution_count": null,
      "outputs": [
        {
          "data": {
            "text/plain": [
              "array([' <=50K', ' <=50K', ' <=50K', ..., ' <=50K', ' <=50K', ' <=50K'],\n",
              "      dtype=object)"
            ]
          },
          "execution_count": 16,
          "metadata": {},
          "output_type": "execute_result"
        }
      ]
    },
    {
      "cell_type": "code",
      "metadata": {
        "id": "3y9zwsUpbUBb",
        "outputId": "3d5a85ee-3aff-4f49-9aa5-a1bbb98ae09d"
      },
      "source": [
        "from sklearn.metrics import accuracy_score, classification_report\n",
        "accuracy_score(y_census_teste, previsoes)"
      ],
      "execution_count": null,
      "outputs": [
        {
          "data": {
            "text/plain": [
              "0.8290685772773797"
            ]
          },
          "execution_count": 17,
          "metadata": {},
          "output_type": "execute_result"
        }
      ]
    },
    {
      "cell_type": "code",
      "metadata": {
        "id": "VKP4c7sUbjrr",
        "outputId": "2312de4f-e65c-4758-b538-676900c81261"
      },
      "source": [
        "print(classification_report(y_census_teste, previsoes))"
      ],
      "execution_count": null,
      "outputs": [
        {
          "name": "stdout",
          "output_type": "stream",
          "text": [
            "              precision    recall  f1-score   support\n",
            "\n",
            "       <=50K       0.86      0.93      0.89      3693\n",
            "        >50K       0.71      0.51      0.59      1192\n",
            "\n",
            "    accuracy                           0.83      4885\n",
            "   macro avg       0.78      0.72      0.74      4885\n",
            "weighted avg       0.82      0.83      0.82      4885\n",
            "\n"
          ]
        }
      ]
    },
    {
      "cell_type": "code",
      "metadata": {
        "id": "ljPW7ajodUIY",
        "outputId": "ee463b82-09bd-4833-c41d-1fe6416eabe6"
      },
      "source": [
        "from yellowbrick.classifier import ConfusionMatrix\n",
        "cm = ConfusionMatrix(knn_census)\n",
        "cm.fit(x_census_treinamento, y_census_treinamento)\n",
        "cm.score(x_census_teste, y_census_teste)"
      ],
      "execution_count": null,
      "outputs": [
        {
          "data": {
            "text/plain": [
              "0.8290685772773797"
            ]
          },
          "execution_count": 19,
          "metadata": {},
          "output_type": "execute_result"
        },
        {
          "data": {
            "image/png": "[encoded data removed]",
            "text/plain": [
              "<Figure size 576x396 with 1 Axes>"
            ]
          },
          "metadata": {},
          "output_type": "display_data"
        }
      ]
    }
  ]
}