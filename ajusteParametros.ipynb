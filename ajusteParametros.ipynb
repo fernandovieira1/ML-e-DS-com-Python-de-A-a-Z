{
  "nbformat": 4,
  "nbformat_minor": 0,
  "metadata": {
    "colab": {
      "name": "ajusteParametros.ipynb",
      "provenance": [],
      "authorship_tag": "ABX9TyNL2ij32JGDieqhWUFGuA1J",
      "include_colab_link": true
    },
    "kernelspec": {
      "name": "python3",
      "display_name": "Python 3"
    },
    "language_info": {
      "name": "python"
    }
  },
  "cells": [
    {
      "cell_type": "markdown",
      "metadata": {
        "id": "view-in-github",
        "colab_type": "text"
      },
      "source": [
        "<a href=\"https://colab.research.google.com/github/fernandovieira1/ML-e-DS-com-Python-de-A-a-Z/blob/master/ajusteParametros.ipynb\" target=\"_parent\"><img src=\"https://colab.research.google.com/assets/colab-badge.svg\" alt=\"Open In Colab\"/></a>"
      ]
    },
    {
      "cell_type": "markdown",
      "metadata": {
        "id": "W2vJTfdza3xn"
      },
      "source": [
        "### Avaliacao de algoritmos"
      ]
    },
    {
      "cell_type": "markdown",
      "metadata": {
        "id": "k1oVJV_Ia8_n"
      },
      "source": [
        "- Naive Bayes: 93,30\n",
        "- Decision Tree: 98,20\n",
        "- Random Forest: 98,40\n",
        "- Regras: 97,40\n",
        "- KNN: 98,60\n",
        "- Regressao Logistica: 94,60\n",
        "- SVM: 98,80\n",
        "- Redes Neurais: 99,60\n"
      ]
    },
    {
      "cell_type": "markdown",
      "metadata": {
        "id": "hXlnGLzTYwOC"
      },
      "source": [
        "## Tuning dos parametros com GridSearch"
      ]
    },
    {
      "cell_type": "code",
      "metadata": {
        "id": "VP7XGezRYiQw"
      },
      "source": [
        "import os\n",
        "import pandas as pd\n",
        "import numpy as np\n",
        "\n",
        "from sklearn.model_selection import GridSearchCV\n",
        "from sklearn.tree import DecisionTreeClassifier\n",
        "from sklearn.ensemble import RandomForestClassifier\n",
        "from sklearn.neighbors import KNeighborsClassifier\n",
        "from sklearn.linear_model import LogisticRegression\n",
        "from sklearn.svm import SVC\n",
        "from sklearn.neural_network import MLPClassifier"
      ],
      "execution_count": 15,
      "outputs": []
    },
    {
      "cell_type": "markdown",
      "metadata": {
        "id": "8bIq4uZQb2FM"
      },
      "source": [
        "## Preparacao dos dados"
      ]
    },
    {
      "cell_type": "code",
      "metadata": {
        "id": "QLli5p5Ib3m9"
      },
      "source": [
        "import pickle\n",
        "with open('credit.pkl', 'rb') as f:\n",
        "  x_credit_treinamento, y_credit_treinamento, x_credit_teste, y_credit_teste =pickle.load(f)"
      ],
      "execution_count": 16,
      "outputs": []
    },
    {
      "cell_type": "code",
      "metadata": {
        "colab": {
          "base_uri": "https://localhost:8080/"
        },
        "id": "RaBW_P_EdEZe",
        "outputId": "9e49d287-1f16-44dc-adac-4c1ad30cc864"
      },
      "source": [
        "x_credit_treinamento.shape, y_credit_treinamento.shape"
      ],
      "execution_count": 17,
      "outputs": [
        {
          "output_type": "execute_result",
          "data": {
            "text/plain": [
              "((1500, 3), (1500,))"
            ]
          },
          "metadata": {},
          "execution_count": 17
        }
      ]
    },
    {
      "cell_type": "code",
      "metadata": {
        "colab": {
          "base_uri": "https://localhost:8080/"
        },
        "id": "4xta4IMhdOKG",
        "outputId": "f8a532b2-c44d-4765-9b4a-89b104a3a58b"
      },
      "source": [
        "x_credit_teste.shape, y_credit_teste.shape"
      ],
      "execution_count": 18,
      "outputs": [
        {
          "output_type": "execute_result",
          "data": {
            "text/plain": [
              "((500, 3), (500,))"
            ]
          },
          "metadata": {},
          "execution_count": 18
        }
      ]
    },
    {
      "cell_type": "code",
      "metadata": {
        "colab": {
          "base_uri": "https://localhost:8080/"
        },
        "id": "dsyLLsRvdWy0",
        "outputId": "ecdafecf-8090-4224-e8fa-d4d89544f1a6"
      },
      "source": [
        "# como faremos a selecao ods parametros por kFold, vamos juntar as bass\n",
        "x_credit = np.concatenate((x_credit_treinamento, x_credit_teste), axis=0)\n",
        "x_credit.shape"
      ],
      "execution_count": 20,
      "outputs": [
        {
          "output_type": "execute_result",
          "data": {
            "text/plain": [
              "(2000, 3)"
            ]
          },
          "metadata": {},
          "execution_count": 20
        }
      ]
    },
    {
      "cell_type": "code",
      "metadata": {
        "id": "UCD4M6jkeVQl"
      },
      "source": [
        "y_credit = np.concatenate((y_credit_treinamento, y_credit_teste),axis=0 )"
      ],
      "execution_count": 21,
      "outputs": []
    }
  ]
}