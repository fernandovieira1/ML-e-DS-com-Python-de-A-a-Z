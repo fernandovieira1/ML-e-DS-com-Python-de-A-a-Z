{
 "cells": [
  {
   "cell_type": "code",
   "execution_count": 1,
   "metadata": {},
   "outputs": [],
   "source": [
    "import pandas as pd\n",
    "import numpy as np\n",
    "import seaborn as sns \n",
    "\n",
    "from sklearn.model_selection import cross_val_predict, cross_val_score, KFold\n",
    "\n",
    "from sklearn.tree import DecisionTreeClassifier\n",
    "from sklearn.ensemble import RandomForestClassifier\n",
    "from sklearn.neighbors import KNeighborsClassifier\n",
    "from sklearn.linear_model import LogisticRegression\n",
    "from sklearn.svm import SVC\n",
    "from sklearn.neural_network import MLPClassifier"
   ]
  },
  {
   "cell_type": "markdown",
   "metadata": {},
   "source": [
    "## Preparacao dos dados"
   ]
  },
  {
   "cell_type": "code",
   "execution_count": 2,
   "metadata": {},
   "outputs": [],
   "source": [
    "import pickle\n",
    "with open('credit.pkl', 'rb') as f:\n",
    "  x_credit_treinamento, y_credit_treinamento, x_credit_teste, y_credit_teste =pickle.load(f)"
   ]
  },
  {
   "cell_type": "code",
   "execution_count": 3,
   "metadata": {},
   "outputs": [
    {
     "data": {
      "text/plain": [
       "((1500, 3), (1500,))"
      ]
     },
     "execution_count": 3,
     "metadata": {},
     "output_type": "execute_result"
    }
   ],
   "source": [
    "x_credit_treinamento.shape, y_credit_treinamento.shape"
   ]
  },
  {
   "cell_type": "code",
   "execution_count": 4,
   "metadata": {},
   "outputs": [
    {
     "data": {
      "text/plain": [
       "((500, 3), (500,))"
      ]
     },
     "execution_count": 4,
     "metadata": {},
     "output_type": "execute_result"
    }
   ],
   "source": [
    "x_credit_teste.shape, y_credit_teste.shape"
   ]
  },
  {
   "cell_type": "code",
   "execution_count": 5,
   "metadata": {},
   "outputs": [
    {
     "data": {
      "text/plain": [
       "(2000, 3)"
      ]
     },
     "execution_count": 5,
     "metadata": {},
     "output_type": "execute_result"
    }
   ],
   "source": [
    "# como faremos a selecao ods parametros por KFold, vamos juntar as bass\n",
    "x_credit = np.concatenate((x_credit_treinamento, x_credit_teste), axis=0)\n",
    "x_credit.shape"
   ]
  },
  {
   "cell_type": "code",
   "execution_count": 6,
   "metadata": {},
   "outputs": [
    {
     "data": {
      "text/plain": [
       "(2000,)"
      ]
     },
     "execution_count": 6,
     "metadata": {},
     "output_type": "execute_result"
    }
   ],
   "source": [
    "y_credit = np.concatenate((y_credit_treinamento, y_credit_teste),axis=0 )\n",
    "y_credit.shape"
   ]
  },
  {
   "cell_type": "markdown",
   "metadata": {},
   "source": [
    "## Validação Cruzada"
   ]
  },
  {
   "cell_type": "code",
   "execution_count": 7,
   "metadata": {},
   "outputs": [],
   "source": [
    "#  a cada ve que se executa uma validação cruzada, há 10 KFolds (amostras)"
   ]
  },
  {
   "cell_type": "code",
   "execution_count": 8,
   "metadata": {},
   "outputs": [],
   "source": [
    "resultados_arvore = []\n",
    "resultados_random_forest = []\n",
    "resultados_knn = []\n",
    "resultados_logistica = []\n",
    "resultados_svm = []\n",
    "resultados_rede_neural = []\n",
    "\n",
    "for i in range(30): # logo, serão 300 testes (10*30)\n",
    "    kfold = KFold(n_splits=10, shuffle=True, random_state=i)\n",
    "\n",
    "## arvores\n",
    "    arvore = DecisionTreeClassifier(criterion='entropy', min_samples_leaf=1, min_samples_split=5, splitter='best') # criterios conhecidos no ajuste dos parametros\n",
    "    scores = cross_val_score(arvore, x_credit, y_credit, cv=kfold)\n",
    "\n",
    "    # print(scores)\n",
    "    # print(scores.mean())\n",
    "    resultados_arvore.append(scores.mean())\n",
    "\n",
    "## Random Forest\n",
    "    random_forest = DecisionTreeClassifier(criterion='entropy', min_samples_leaf=1, min_samples_split=5, splitter='best') # criterios conhecidos no ajuste dos parametros\n",
    "    scores = cross_val_score(random_forest, x_credit, y_credit, cv=kfold)\n",
    "\n",
    "    resultados_random_forest.append(scores.mean())\n",
    "\n",
    "## KNN\n",
    "    knn = KNeighborsClassifier()\n",
    "    scores = cross_val_score(random_forest, x_credit, y_credit, cv=kfold)\n",
    "    resultados_knn.append(scores.mean())\n",
    "\n",
    "## Logistica\n",
    "    logistica = LogisticRegression(C = 1.0, solver = 'lbfgs', tol = 0.0001)\n",
    "    scores = cross_val_score(logistica, x_credit, y_credit, cv=kfold)\n",
    "    resultados_logistica.append(scores.mean())\n",
    "\n",
    "## SVM\n",
    "    svm = SVC(kernel='rbf', C=2.0)\n",
    "    scores = cross_val_score(svm, x_credit, y_credit, cv=kfold)\n",
    "    resultados_svm.append(scores.mean())\n",
    "\n",
    "## Redes Neurais\n",
    "# não vou rodar pra não ficar muito pesado, mas a ideia é a mesma\n"
   ]
  },
  {
   "cell_type": "code",
   "execution_count": 9,
   "metadata": {},
   "outputs": [
    {
     "name": "stdout",
     "output_type": "stream",
     "text": [
      "arvore:\n"
     ]
    },
    {
     "data": {
      "text/plain": [
       "[0.9869999999999999,\n",
       " 0.9844999999999999,\n",
       " 0.9905000000000002,\n",
       " 0.9875,\n",
       " 0.9890000000000001,\n",
       " 0.9884999999999999,\n",
       " 0.9880000000000001,\n",
       " 0.9875,\n",
       " 0.9860000000000001,\n",
       " 0.9869999999999999,\n",
       " 0.9865,\n",
       " 0.9894999999999999,\n",
       " 0.9889999999999999,\n",
       " 0.9869999999999999,\n",
       " 0.984,\n",
       " 0.9854999999999998,\n",
       " 0.9855,\n",
       " 0.9904999999999999,\n",
       " 0.9875,\n",
       " 0.9869999999999999,\n",
       " 0.983,\n",
       " 0.9865,\n",
       " 0.9884999999999999,\n",
       " 0.9875,\n",
       " 0.9880000000000001,\n",
       " 0.9880000000000001,\n",
       " 0.9879999999999999,\n",
       " 0.986,\n",
       " 0.986,\n",
       " 0.9884999999999999]"
      ]
     },
     "execution_count": 9,
     "metadata": {},
     "output_type": "execute_result"
    }
   ],
   "source": [
    "# média de cada linha dos resultados -- print(scores)\n",
    "print('arvore:')\n",
    "resultados_arvore"
   ]
  },
  {
   "cell_type": "code",
   "execution_count": 10,
   "metadata": {},
   "outputs": [
    {
     "name": "stdout",
     "output_type": "stream",
     "text": [
      "Random Forest:\n"
     ]
    },
    {
     "data": {
      "text/plain": [
       "[0.986,\n",
       " 0.9844999999999999,\n",
       " 0.9905000000000002,\n",
       " 0.9879999999999999,\n",
       " 0.9884999999999999,\n",
       " 0.9884999999999999,\n",
       " 0.9880000000000001,\n",
       " 0.9875,\n",
       " 0.9855,\n",
       " 0.9869999999999999,\n",
       " 0.9860000000000001,\n",
       " 0.9894999999999999,\n",
       " 0.9884999999999999,\n",
       " 0.9869999999999999,\n",
       " 0.9845,\n",
       " 0.9859999999999998,\n",
       " 0.9855,\n",
       " 0.9904999999999999,\n",
       " 0.9875,\n",
       " 0.9869999999999999,\n",
       " 0.985,\n",
       " 0.9865,\n",
       " 0.9884999999999999,\n",
       " 0.9875,\n",
       " 0.9880000000000001,\n",
       " 0.9880000000000001,\n",
       " 0.9879999999999999,\n",
       " 0.986,\n",
       " 0.9854999999999998,\n",
       " 0.9884999999999999]"
      ]
     },
     "execution_count": 10,
     "metadata": {},
     "output_type": "execute_result"
    }
   ],
   "source": [
    "print('Random Forest:')\n",
    "resultados_random_forest"
   ]
  },
  {
   "cell_type": "code",
   "execution_count": 11,
   "metadata": {},
   "outputs": [
    {
     "name": "stdout",
     "output_type": "stream",
     "text": [
      "KNN:\n"
     ]
    },
    {
     "data": {
      "text/plain": [
       "[0.9869999999999999,\n",
       " 0.985,\n",
       " 0.9905000000000002,\n",
       " 0.9869999999999999,\n",
       " 0.9884999999999999,\n",
       " 0.9890000000000001,\n",
       " 0.9884999999999999,\n",
       " 0.9875,\n",
       " 0.9870000000000001,\n",
       " 0.9875,\n",
       " 0.9860000000000001,\n",
       " 0.9894999999999999,\n",
       " 0.9884999999999999,\n",
       " 0.9869999999999999,\n",
       " 0.9845,\n",
       " 0.9859999999999998,\n",
       " 0.9855,\n",
       " 0.9904999999999999,\n",
       " 0.9875,\n",
       " 0.9869999999999999,\n",
       " 0.983,\n",
       " 0.9865,\n",
       " 0.9884999999999999,\n",
       " 0.9875,\n",
       " 0.9880000000000001,\n",
       " 0.9880000000000001,\n",
       " 0.9879999999999999,\n",
       " 0.9855,\n",
       " 0.9864999999999998,\n",
       " 0.9890000000000001]"
      ]
     },
     "execution_count": 11,
     "metadata": {},
     "output_type": "execute_result"
    }
   ],
   "source": [
    "print('KNN:')\n",
    "resultados_knn"
   ]
  },
  {
   "cell_type": "code",
   "execution_count": 12,
   "metadata": {},
   "outputs": [
    {
     "name": "stdout",
     "output_type": "stream",
     "text": [
      "Regressão Logística:\n"
     ]
    },
    {
     "data": {
      "text/plain": [
       "[0.9475,\n",
       " 0.9465,\n",
       " 0.9470000000000001,\n",
       " 0.946,\n",
       " 0.9465,\n",
       " 0.9465,\n",
       " 0.9469999999999998,\n",
       " 0.9480000000000001,\n",
       " 0.9465,\n",
       " 0.9465,\n",
       " 0.9475,\n",
       " 0.9479999999999998,\n",
       " 0.9475,\n",
       " 0.9475,\n",
       " 0.9484999999999999,\n",
       " 0.9475,\n",
       " 0.946,\n",
       " 0.9470000000000001,\n",
       " 0.9465,\n",
       " 0.9464999999999998,\n",
       " 0.9465,\n",
       " 0.9469999999999998,\n",
       " 0.9455,\n",
       " 0.9465,\n",
       " 0.9470000000000001,\n",
       " 0.9469999999999998,\n",
       " 0.9475,\n",
       " 0.9465,\n",
       " 0.9480000000000001,\n",
       " 0.9465]"
      ]
     },
     "execution_count": 12,
     "metadata": {},
     "output_type": "execute_result"
    }
   ],
   "source": [
    "print('Regressão Logística:')\n",
    "resultados_logistica"
   ]
  },
  {
   "cell_type": "code",
   "execution_count": 13,
   "metadata": {},
   "outputs": [
    {
     "name": "stdout",
     "output_type": "stream",
     "text": [
      "SVM:\n"
     ]
    },
    {
     "data": {
      "text/plain": [
       "[0.9845,\n",
       " 0.984,\n",
       " 0.9864999999999998,\n",
       " 0.985,\n",
       " 0.985,\n",
       " 0.9845,\n",
       " 0.986,\n",
       " 0.9849999999999998,\n",
       " 0.984,\n",
       " 0.9845,\n",
       " 0.984,\n",
       " 0.9845,\n",
       " 0.9855,\n",
       " 0.9855,\n",
       " 0.983,\n",
       " 0.9865,\n",
       " 0.986,\n",
       " 0.9865,\n",
       " 0.985,\n",
       " 0.9844999999999999,\n",
       " 0.984,\n",
       " 0.985,\n",
       " 0.9865,\n",
       " 0.9875,\n",
       " 0.9869999999999999,\n",
       " 0.982,\n",
       " 0.984,\n",
       " 0.9865,\n",
       " 0.9834999999999999,\n",
       " 0.9865]"
      ]
     },
     "execution_count": 13,
     "metadata": {},
     "output_type": "execute_result"
    }
   ],
   "source": [
    "\n",
    "print('SVM:')\n",
    "resultados_svm"
   ]
  },
  {
   "cell_type": "markdown",
   "metadata": {},
   "source": [
    "#### Avaliando os resultados"
   ]
  },
  {
   "cell_type": "code",
   "execution_count": 34,
   "metadata": {},
   "outputs": [],
   "source": [
    "resultados = pd.DataFrame({'Arvore': resultados_arvore, 'Random Forest': resultados_random_forest, 'KNN': resultados_knn,\n",
    "                          'Logistica': resultados_logistica, 'SVM': resultados_svm})"
   ]
  },
  {
   "cell_type": "code",
   "execution_count": 35,
   "metadata": {},
   "outputs": [
    {
     "data": {
      "text/html": [
       "<div>\n",
       "<style scoped>\n",
       "    .dataframe tbody tr th:only-of-type {\n",
       "        vertical-align: middle;\n",
       "    }\n",
       "\n",
       "    .dataframe tbody tr th {\n",
       "        vertical-align: top;\n",
       "    }\n",
       "\n",
       "    .dataframe thead th {\n",
       "        text-align: right;\n",
       "    }\n",
       "</style>\n",
       "<table border=\"1\" class=\"dataframe\">\n",
       "  <thead>\n",
       "    <tr style=\"text-align: right;\">\n",
       "      <th></th>\n",
       "      <th>Arvore</th>\n",
       "      <th>Random Forest</th>\n",
       "      <th>KNN</th>\n",
       "      <th>Logistica</th>\n",
       "      <th>SVM</th>\n",
       "    </tr>\n",
       "  </thead>\n",
       "  <tbody>\n",
       "    <tr>\n",
       "      <th>0</th>\n",
       "      <td>0.9870</td>\n",
       "      <td>0.9860</td>\n",
       "      <td>0.9870</td>\n",
       "      <td>0.9475</td>\n",
       "      <td>0.9845</td>\n",
       "    </tr>\n",
       "    <tr>\n",
       "      <th>1</th>\n",
       "      <td>0.9845</td>\n",
       "      <td>0.9845</td>\n",
       "      <td>0.9850</td>\n",
       "      <td>0.9465</td>\n",
       "      <td>0.9840</td>\n",
       "    </tr>\n",
       "    <tr>\n",
       "      <th>2</th>\n",
       "      <td>0.9905</td>\n",
       "      <td>0.9905</td>\n",
       "      <td>0.9905</td>\n",
       "      <td>0.9470</td>\n",
       "      <td>0.9865</td>\n",
       "    </tr>\n",
       "    <tr>\n",
       "      <th>3</th>\n",
       "      <td>0.9875</td>\n",
       "      <td>0.9880</td>\n",
       "      <td>0.9870</td>\n",
       "      <td>0.9460</td>\n",
       "      <td>0.9850</td>\n",
       "    </tr>\n",
       "    <tr>\n",
       "      <th>4</th>\n",
       "      <td>0.9890</td>\n",
       "      <td>0.9885</td>\n",
       "      <td>0.9885</td>\n",
       "      <td>0.9465</td>\n",
       "      <td>0.9850</td>\n",
       "    </tr>\n",
       "    <tr>\n",
       "      <th>5</th>\n",
       "      <td>0.9885</td>\n",
       "      <td>0.9885</td>\n",
       "      <td>0.9890</td>\n",
       "      <td>0.9465</td>\n",
       "      <td>0.9845</td>\n",
       "    </tr>\n",
       "    <tr>\n",
       "      <th>6</th>\n",
       "      <td>0.9880</td>\n",
       "      <td>0.9880</td>\n",
       "      <td>0.9885</td>\n",
       "      <td>0.9470</td>\n",
       "      <td>0.9860</td>\n",
       "    </tr>\n",
       "    <tr>\n",
       "      <th>7</th>\n",
       "      <td>0.9875</td>\n",
       "      <td>0.9875</td>\n",
       "      <td>0.9875</td>\n",
       "      <td>0.9480</td>\n",
       "      <td>0.9850</td>\n",
       "    </tr>\n",
       "    <tr>\n",
       "      <th>8</th>\n",
       "      <td>0.9860</td>\n",
       "      <td>0.9855</td>\n",
       "      <td>0.9870</td>\n",
       "      <td>0.9465</td>\n",
       "      <td>0.9840</td>\n",
       "    </tr>\n",
       "    <tr>\n",
       "      <th>9</th>\n",
       "      <td>0.9870</td>\n",
       "      <td>0.9870</td>\n",
       "      <td>0.9875</td>\n",
       "      <td>0.9465</td>\n",
       "      <td>0.9845</td>\n",
       "    </tr>\n",
       "    <tr>\n",
       "      <th>10</th>\n",
       "      <td>0.9865</td>\n",
       "      <td>0.9860</td>\n",
       "      <td>0.9860</td>\n",
       "      <td>0.9475</td>\n",
       "      <td>0.9840</td>\n",
       "    </tr>\n",
       "    <tr>\n",
       "      <th>11</th>\n",
       "      <td>0.9895</td>\n",
       "      <td>0.9895</td>\n",
       "      <td>0.9895</td>\n",
       "      <td>0.9480</td>\n",
       "      <td>0.9845</td>\n",
       "    </tr>\n",
       "    <tr>\n",
       "      <th>12</th>\n",
       "      <td>0.9890</td>\n",
       "      <td>0.9885</td>\n",
       "      <td>0.9885</td>\n",
       "      <td>0.9475</td>\n",
       "      <td>0.9855</td>\n",
       "    </tr>\n",
       "    <tr>\n",
       "      <th>13</th>\n",
       "      <td>0.9870</td>\n",
       "      <td>0.9870</td>\n",
       "      <td>0.9870</td>\n",
       "      <td>0.9475</td>\n",
       "      <td>0.9855</td>\n",
       "    </tr>\n",
       "    <tr>\n",
       "      <th>14</th>\n",
       "      <td>0.9840</td>\n",
       "      <td>0.9845</td>\n",
       "      <td>0.9845</td>\n",
       "      <td>0.9485</td>\n",
       "      <td>0.9830</td>\n",
       "    </tr>\n",
       "    <tr>\n",
       "      <th>15</th>\n",
       "      <td>0.9855</td>\n",
       "      <td>0.9860</td>\n",
       "      <td>0.9860</td>\n",
       "      <td>0.9475</td>\n",
       "      <td>0.9865</td>\n",
       "    </tr>\n",
       "    <tr>\n",
       "      <th>16</th>\n",
       "      <td>0.9855</td>\n",
       "      <td>0.9855</td>\n",
       "      <td>0.9855</td>\n",
       "      <td>0.9460</td>\n",
       "      <td>0.9860</td>\n",
       "    </tr>\n",
       "    <tr>\n",
       "      <th>17</th>\n",
       "      <td>0.9905</td>\n",
       "      <td>0.9905</td>\n",
       "      <td>0.9905</td>\n",
       "      <td>0.9470</td>\n",
       "      <td>0.9865</td>\n",
       "    </tr>\n",
       "    <tr>\n",
       "      <th>18</th>\n",
       "      <td>0.9875</td>\n",
       "      <td>0.9875</td>\n",
       "      <td>0.9875</td>\n",
       "      <td>0.9465</td>\n",
       "      <td>0.9850</td>\n",
       "    </tr>\n",
       "    <tr>\n",
       "      <th>19</th>\n",
       "      <td>0.9870</td>\n",
       "      <td>0.9870</td>\n",
       "      <td>0.9870</td>\n",
       "      <td>0.9465</td>\n",
       "      <td>0.9845</td>\n",
       "    </tr>\n",
       "    <tr>\n",
       "      <th>20</th>\n",
       "      <td>0.9830</td>\n",
       "      <td>0.9850</td>\n",
       "      <td>0.9830</td>\n",
       "      <td>0.9465</td>\n",
       "      <td>0.9840</td>\n",
       "    </tr>\n",
       "    <tr>\n",
       "      <th>21</th>\n",
       "      <td>0.9865</td>\n",
       "      <td>0.9865</td>\n",
       "      <td>0.9865</td>\n",
       "      <td>0.9470</td>\n",
       "      <td>0.9850</td>\n",
       "    </tr>\n",
       "    <tr>\n",
       "      <th>22</th>\n",
       "      <td>0.9885</td>\n",
       "      <td>0.9885</td>\n",
       "      <td>0.9885</td>\n",
       "      <td>0.9455</td>\n",
       "      <td>0.9865</td>\n",
       "    </tr>\n",
       "    <tr>\n",
       "      <th>23</th>\n",
       "      <td>0.9875</td>\n",
       "      <td>0.9875</td>\n",
       "      <td>0.9875</td>\n",
       "      <td>0.9465</td>\n",
       "      <td>0.9875</td>\n",
       "    </tr>\n",
       "    <tr>\n",
       "      <th>24</th>\n",
       "      <td>0.9880</td>\n",
       "      <td>0.9880</td>\n",
       "      <td>0.9880</td>\n",
       "      <td>0.9470</td>\n",
       "      <td>0.9870</td>\n",
       "    </tr>\n",
       "    <tr>\n",
       "      <th>25</th>\n",
       "      <td>0.9880</td>\n",
       "      <td>0.9880</td>\n",
       "      <td>0.9880</td>\n",
       "      <td>0.9470</td>\n",
       "      <td>0.9820</td>\n",
       "    </tr>\n",
       "    <tr>\n",
       "      <th>26</th>\n",
       "      <td>0.9880</td>\n",
       "      <td>0.9880</td>\n",
       "      <td>0.9880</td>\n",
       "      <td>0.9475</td>\n",
       "      <td>0.9840</td>\n",
       "    </tr>\n",
       "    <tr>\n",
       "      <th>27</th>\n",
       "      <td>0.9860</td>\n",
       "      <td>0.9860</td>\n",
       "      <td>0.9855</td>\n",
       "      <td>0.9465</td>\n",
       "      <td>0.9865</td>\n",
       "    </tr>\n",
       "    <tr>\n",
       "      <th>28</th>\n",
       "      <td>0.9860</td>\n",
       "      <td>0.9855</td>\n",
       "      <td>0.9865</td>\n",
       "      <td>0.9480</td>\n",
       "      <td>0.9835</td>\n",
       "    </tr>\n",
       "    <tr>\n",
       "      <th>29</th>\n",
       "      <td>0.9885</td>\n",
       "      <td>0.9885</td>\n",
       "      <td>0.9890</td>\n",
       "      <td>0.9465</td>\n",
       "      <td>0.9865</td>\n",
       "    </tr>\n",
       "  </tbody>\n",
       "</table>\n",
       "</div>"
      ],
      "text/plain": [
       "    Arvore  Random Forest     KNN  Logistica     SVM\n",
       "0   0.9870         0.9860  0.9870     0.9475  0.9845\n",
       "1   0.9845         0.9845  0.9850     0.9465  0.9840\n",
       "2   0.9905         0.9905  0.9905     0.9470  0.9865\n",
       "3   0.9875         0.9880  0.9870     0.9460  0.9850\n",
       "4   0.9890         0.9885  0.9885     0.9465  0.9850\n",
       "5   0.9885         0.9885  0.9890     0.9465  0.9845\n",
       "6   0.9880         0.9880  0.9885     0.9470  0.9860\n",
       "7   0.9875         0.9875  0.9875     0.9480  0.9850\n",
       "8   0.9860         0.9855  0.9870     0.9465  0.9840\n",
       "9   0.9870         0.9870  0.9875     0.9465  0.9845\n",
       "10  0.9865         0.9860  0.9860     0.9475  0.9840\n",
       "11  0.9895         0.9895  0.9895     0.9480  0.9845\n",
       "12  0.9890         0.9885  0.9885     0.9475  0.9855\n",
       "13  0.9870         0.9870  0.9870     0.9475  0.9855\n",
       "14  0.9840         0.9845  0.9845     0.9485  0.9830\n",
       "15  0.9855         0.9860  0.9860     0.9475  0.9865\n",
       "16  0.9855         0.9855  0.9855     0.9460  0.9860\n",
       "17  0.9905         0.9905  0.9905     0.9470  0.9865\n",
       "18  0.9875         0.9875  0.9875     0.9465  0.9850\n",
       "19  0.9870         0.9870  0.9870     0.9465  0.9845\n",
       "20  0.9830         0.9850  0.9830     0.9465  0.9840\n",
       "21  0.9865         0.9865  0.9865     0.9470  0.9850\n",
       "22  0.9885         0.9885  0.9885     0.9455  0.9865\n",
       "23  0.9875         0.9875  0.9875     0.9465  0.9875\n",
       "24  0.9880         0.9880  0.9880     0.9470  0.9870\n",
       "25  0.9880         0.9880  0.9880     0.9470  0.9820\n",
       "26  0.9880         0.9880  0.9880     0.9475  0.9840\n",
       "27  0.9860         0.9860  0.9855     0.9465  0.9865\n",
       "28  0.9860         0.9855  0.9865     0.9480  0.9835\n",
       "29  0.9885         0.9885  0.9890     0.9465  0.9865"
      ]
     },
     "execution_count": 35,
     "metadata": {},
     "output_type": "execute_result"
    }
   ],
   "source": [
    "resultados"
   ]
  },
  {
   "cell_type": "markdown",
   "metadata": {},
   "source": [
    "### Testes estatísticos"
   ]
  },
  {
   "cell_type": "code",
   "execution_count": 36,
   "metadata": {},
   "outputs": [
    {
     "data": {
      "text/html": [
       "<div>\n",
       "<style scoped>\n",
       "    .dataframe tbody tr th:only-of-type {\n",
       "        vertical-align: middle;\n",
       "    }\n",
       "\n",
       "    .dataframe tbody tr th {\n",
       "        vertical-align: top;\n",
       "    }\n",
       "\n",
       "    .dataframe thead th {\n",
       "        text-align: right;\n",
       "    }\n",
       "</style>\n",
       "<table border=\"1\" class=\"dataframe\">\n",
       "  <thead>\n",
       "    <tr style=\"text-align: right;\">\n",
       "      <th></th>\n",
       "      <th>Arvore</th>\n",
       "      <th>Random Forest</th>\n",
       "      <th>KNN</th>\n",
       "      <th>Logistica</th>\n",
       "      <th>SVM</th>\n",
       "    </tr>\n",
       "  </thead>\n",
       "  <tbody>\n",
       "    <tr>\n",
       "      <th>count</th>\n",
       "      <td>30.000000</td>\n",
       "      <td>30.000000</td>\n",
       "      <td>30.000000</td>\n",
       "      <td>30.000000</td>\n",
       "      <td>30.000000</td>\n",
       "    </tr>\n",
       "    <tr>\n",
       "      <th>mean</th>\n",
       "      <td>0.987250</td>\n",
       "      <td>0.987250</td>\n",
       "      <td>0.987333</td>\n",
       "      <td>0.946950</td>\n",
       "      <td>0.985083</td>\n",
       "    </tr>\n",
       "    <tr>\n",
       "      <th>std</th>\n",
       "      <td>0.001741</td>\n",
       "      <td>0.001591</td>\n",
       "      <td>0.001678</td>\n",
       "      <td>0.000687</td>\n",
       "      <td>0.001280</td>\n",
       "    </tr>\n",
       "    <tr>\n",
       "      <th>min</th>\n",
       "      <td>0.983000</td>\n",
       "      <td>0.984500</td>\n",
       "      <td>0.983000</td>\n",
       "      <td>0.945500</td>\n",
       "      <td>0.982000</td>\n",
       "    </tr>\n",
       "    <tr>\n",
       "      <th>25%</th>\n",
       "      <td>0.986125</td>\n",
       "      <td>0.986000</td>\n",
       "      <td>0.986500</td>\n",
       "      <td>0.946500</td>\n",
       "      <td>0.984125</td>\n",
       "    </tr>\n",
       "    <tr>\n",
       "      <th>50%</th>\n",
       "      <td>0.987500</td>\n",
       "      <td>0.987500</td>\n",
       "      <td>0.987500</td>\n",
       "      <td>0.947000</td>\n",
       "      <td>0.985000</td>\n",
       "    </tr>\n",
       "    <tr>\n",
       "      <th>75%</th>\n",
       "      <td>0.988375</td>\n",
       "      <td>0.988375</td>\n",
       "      <td>0.988500</td>\n",
       "      <td>0.947500</td>\n",
       "      <td>0.986375</td>\n",
       "    </tr>\n",
       "    <tr>\n",
       "      <th>max</th>\n",
       "      <td>0.990500</td>\n",
       "      <td>0.990500</td>\n",
       "      <td>0.990500</td>\n",
       "      <td>0.948500</td>\n",
       "      <td>0.987500</td>\n",
       "    </tr>\n",
       "  </tbody>\n",
       "</table>\n",
       "</div>"
      ],
      "text/plain": [
       "          Arvore  Random Forest        KNN  Logistica        SVM\n",
       "count  30.000000      30.000000  30.000000  30.000000  30.000000\n",
       "mean    0.987250       0.987250   0.987333   0.946950   0.985083\n",
       "std     0.001741       0.001591   0.001678   0.000687   0.001280\n",
       "min     0.983000       0.984500   0.983000   0.945500   0.982000\n",
       "25%     0.986125       0.986000   0.986500   0.946500   0.984125\n",
       "50%     0.987500       0.987500   0.987500   0.947000   0.985000\n",
       "75%     0.988375       0.988375   0.988500   0.947500   0.986375\n",
       "max     0.990500       0.990500   0.990500   0.948500   0.987500"
      ]
     },
     "execution_count": 36,
     "metadata": {},
     "output_type": "execute_result"
    }
   ],
   "source": [
    "# Estatística descritiva\n",
    "resultados.describe()"
   ]
  },
  {
   "cell_type": "code",
   "execution_count": 37,
   "metadata": {},
   "outputs": [
    {
     "data": {
      "text/plain": [
       "Arvore           0.176322\n",
       "Random Forest    0.161119\n",
       "KNN              0.169965\n",
       "Logistica        0.072517\n",
       "SVM              0.129977\n",
       "dtype: float64"
      ]
     },
     "execution_count": 37,
     "metadata": {},
     "output_type": "execute_result"
    }
   ],
   "source": [
    "# Coeficiente de variação\n",
    "cv = resultados.std() / resultados.mean() * 100\n",
    "cv"
   ]
  },
  {
   "cell_type": "code",
   "execution_count": 38,
   "metadata": {},
   "outputs": [
    {
     "data": {
      "text/plain": [
       "Arvore           3.030172e-06\n",
       "Random Forest    2.530172e-06\n",
       "KNN              2.816092e-06\n",
       "Logistica        4.715517e-07\n",
       "SVM              1.639368e-06\n",
       "dtype: float64"
      ]
     },
     "execution_count": 38,
     "metadata": {},
     "output_type": "execute_result"
    }
   ],
   "source": [
    "# Variância\n",
    "resultados.var()"
   ]
  },
  {
   "cell_type": "code",
   "execution_count": 39,
   "metadata": {},
   "outputs": [
    {
     "data": {
      "text/plain": [
       "(ShapiroResult(statistic=0.9769608974456787, pvalue=0.740291178226471),\n",
       " ShapiroResult(statistic=0.9604780077934265, pvalue=0.3185953199863434),\n",
       " ShapiroResult(statistic=0.9780791997909546, pvalue=0.7725057005882263),\n",
       " ShapiroResult(statistic=0.9370993375778198, pvalue=0.07600117474794388),\n",
       " ShapiroResult(statistic=0.962294340133667, pvalue=0.35407164692878723))"
      ]
     },
     "execution_count": 39,
     "metadata": {},
     "output_type": "execute_result"
    }
   ],
   "source": [
    "# Testes de normalidade\n",
    "# Shapiro\n",
    "from scipy.stats import shapiro\n",
    "\n",
    "alpha = 0.05\n",
    "\n",
    "shapiro(resultados_arvore), shapiro(resultados_random_forest), shapiro(resultados_knn), shapiro(resultados_logistica), shapiro(resultados_svm)\n",
    "\n",
    "# Se pvalue for <= a alpha, indica que os dados NÃO são normais\n",
    "# Logo, aceitamos a hipótese nula de que os dados são normais"
   ]
  },
  {
   "cell_type": "code",
   "execution_count": 40,
   "metadata": {},
   "outputs": [
    {
     "name": "stderr",
     "output_type": "stream",
     "text": [
      "/Users/fernandovieira/Library/Python/3.8/lib/python/site-packages/seaborn/distributions.py:2619: FutureWarning: `distplot` is a deprecated function and will be removed in a future version. Please adapt your code to use either `displot` (a figure-level function with similar flexibility) or `kdeplot` (an axes-level function for kernel density plots).\n",
      "  warnings.warn(msg, FutureWarning)\n"
     ]
    },
    {
     "data": {
      "text/plain": [
       "<AxesSubplot:ylabel='Density'>"
      ]
     },
     "execution_count": 40,
     "metadata": {},
     "output_type": "execute_result"
    },
    {
     "data": {
      "image/png": "[encoded data removed]",
      "text/plain": [
       "<Figure size 432x288 with 1 Axes>"
      ]
     },
     "metadata": {
      "needs_background": "light"
     },
     "output_type": "display_data"
    }
   ],
   "source": [
    "# Testes de hipótese com ANOVA e Tukey\n",
    "sns.distplot(resultados_arvore, hist=False, kde=True)"
   ]
  },
  {
   "cell_type": "code",
   "execution_count": 41,
   "metadata": {},
   "outputs": [
    {
     "name": "stderr",
     "output_type": "stream",
     "text": [
      "/Users/fernandovieira/Library/Python/3.8/lib/python/site-packages/seaborn/distributions.py:2619: FutureWarning: `distplot` is a deprecated function and will be removed in a future version. Please adapt your code to use either `displot` (a figure-level function with similar flexibility) or `kdeplot` (an axes-level function for kernel density plots).\n",
      "  warnings.warn(msg, FutureWarning)\n"
     ]
    },
    {
     "data": {
      "text/plain": [
       "<AxesSubplot:ylabel='Density'>"
      ]
     },
     "execution_count": 41,
     "metadata": {},
     "output_type": "execute_result"
    },
    {
     "data": {
      "image/png": "[encoded data removed]",
      "text/plain": [
       "<Figure size 432x288 with 1 Axes>"
      ]
     },
     "metadata": {
      "needs_background": "light"
     },
     "output_type": "display_data"
    }
   ],
   "source": [
    "sns.distplot(resultados_random_forest, hist=False, kde=True)"
   ]
  },
  {
   "cell_type": "code",
   "execution_count": 42,
   "metadata": {},
   "outputs": [
    {
     "name": "stderr",
     "output_type": "stream",
     "text": [
      "/Users/fernandovieira/Library/Python/3.8/lib/python/site-packages/seaborn/distributions.py:2619: FutureWarning: `distplot` is a deprecated function and will be removed in a future version. Please adapt your code to use either `displot` (a figure-level function with similar flexibility) or `kdeplot` (an axes-level function for kernel density plots).\n",
      "  warnings.warn(msg, FutureWarning)\n"
     ]
    },
    {
     "data": {
      "text/plain": [
       "<AxesSubplot:ylabel='Density'>"
      ]
     },
     "execution_count": 42,
     "metadata": {},
     "output_type": "execute_result"
    },
    {
     "data": {
      "image/png": "[encoded data removed]",
      "text/plain": [
       "<Figure size 432x288 with 1 Axes>"
      ]
     },
     "metadata": {
      "needs_background": "light"
     },
     "output_type": "display_data"
    }
   ],
   "source": [
    "sns.distplot(resultados_knn, hist=False, kde=True)"
   ]
  },
  {
   "cell_type": "code",
   "execution_count": 43,
   "metadata": {},
   "outputs": [
    {
     "name": "stderr",
     "output_type": "stream",
     "text": [
      "/Users/fernandovieira/Library/Python/3.8/lib/python/site-packages/seaborn/distributions.py:2619: FutureWarning: `distplot` is a deprecated function and will be removed in a future version. Please adapt your code to use either `displot` (a figure-level function with similar flexibility) or `kdeplot` (an axes-level function for kernel density plots).\n",
      "  warnings.warn(msg, FutureWarning)\n"
     ]
    },
    {
     "data": {
      "text/plain": [
       "<AxesSubplot:ylabel='Density'>"
      ]
     },
     "execution_count": 43,
     "metadata": {},
     "output_type": "execute_result"
    },
    {
     "data": {
      "image/png": "[encoded data removed]",
      "text/plain": [
       "<Figure size 432x288 with 1 Axes>"
      ]
     },
     "metadata": {
      "needs_background": "light"
     },
     "output_type": "display_data"
    }
   ],
   "source": [
    "sns.distplot(resultados_logistica, hist=False, kde=True)"
   ]
  },
  {
   "cell_type": "code",
   "execution_count": 44,
   "metadata": {},
   "outputs": [
    {
     "name": "stderr",
     "output_type": "stream",
     "text": [
      "/Users/fernandovieira/Library/Python/3.8/lib/python/site-packages/seaborn/distributions.py:2619: FutureWarning: `distplot` is a deprecated function and will be removed in a future version. Please adapt your code to use either `displot` (a figure-level function with similar flexibility) or `kdeplot` (an axes-level function for kernel density plots).\n",
      "  warnings.warn(msg, FutureWarning)\n"
     ]
    },
    {
     "data": {
      "text/plain": [
       "<AxesSubplot:ylabel='Density'>"
      ]
     },
     "execution_count": 44,
     "metadata": {},
     "output_type": "execute_result"
    },
    {
     "data": {
      "image/png": "[encoded data removed]",
      "text/plain": [
       "<Figure size 432x288 with 1 Axes>"
      ]
     },
     "metadata": {
      "needs_background": "light"
     },
     "output_type": "display_data"
    }
   ],
   "source": [
    "sns.distplot(resultados_svm, hist=False, kde=True)"
   ]
  },
  {
   "cell_type": "markdown",
   "metadata": {},
   "source": [
    "**Melhor algoritmo com ANOVA e Tukey**"
   ]
  },
  {
   "cell_type": "code",
   "execution_count": 45,
   "metadata": {},
   "outputs": [],
   "source": [
    "# Teste ANOVA auxiliará a decidir se os resultados são diferentes, em se tratando daqueles com distribuições normais\n",
    "from scipy.stats import f_oneway"
   ]
  },
  {
   "cell_type": "code",
   "execution_count": 46,
   "metadata": {},
   "outputs": [
    {
     "data": {
      "text/plain": [
       "3.383593589279315e-151"
      ]
     },
     "execution_count": 46,
     "metadata": {},
     "output_type": "execute_result"
    }
   ],
   "source": [
    "_, p = f_oneway(resultados_arvore, resultados_random_forest, resultados_knn, resultados_logistica, resultados_svm) # 0 '_' é para pegar apenas o reusltado de p\n",
    "p"
   ]
  },
  {
   "cell_type": "code",
   "execution_count": 47,
   "metadata": {},
   "outputs": [
    {
     "name": "stdout",
     "output_type": "stream",
     "text": [
      "Hipótese nula rejeitada: dados são diferentes\n"
     ]
    }
   ],
   "source": [
    "alpha = 0.05 # confiança de 95%\n",
    "\n",
    "if p <= alpha:\n",
    "    print('Hipótese nula rejeitada: dados são diferentes')\n",
    "else:\n",
    "    print('Hipótese alternativa rejeitada: resultados são iguais') # ex.: arvore é diferete de knn, svm é diferente de random forest etc.\n",
    "\n",
    "# como os dados são diferentes, vamos aplicar o teste de Tukey\n"
   ]
  },
  {
   "cell_type": "code",
   "execution_count": 48,
   "metadata": {},
   "outputs": [],
   "source": [
    "resultados_algoritmos = {'accuracy': np.concatenate([resultados_arvore, resultados_random_forest, resultados_knn, resultados_logistica, resultados_svm]),\n",
    "                         'algoritmo':['arvore', 'arvore', 'arvore', 'arvore', 'arvore', 'arvore', 'arvore', 'arvore', 'arvore', 'arvore', 'arvore', 'arvore', 'arvore', 'arvore', 'arvore', 'arvore', 'arvore', 'arvore', 'arvore', 'arvore', 'arvore', 'arvore', 'arvore', 'arvore', 'arvore', 'arvore', 'arvore', 'arvore', 'arvore', 'arvore',\n",
    "                                      'random forest', 'random forest', 'random forest', 'random forest', 'random forest', 'random forest', 'random forest', 'random forest', 'random forest', 'random forest', 'random forest', 'random forest', 'random forest', 'random forest', 'random forest', 'random forest', 'random forest', 'random forest', 'random forest', 'random forest', 'random forest', 'random forest', 'random forest', 'random forest', 'random forest', 'random forest', 'random forest', 'random forest', 'random forest', 'random forest',\n",
    "                                      'knn', 'knn', 'knn', 'knn', 'knn', 'knn', 'knn', 'knn', 'knn', 'knn', 'knn', 'knn', 'knn', 'knn', 'knn', 'knn', 'knn', 'knn', 'knn', 'knn', 'knn', 'knn', 'knn', 'knn', 'knn', 'knn', 'knn', 'knn', 'knn', 'knn',\n",
    "                                      'logistica', 'logistica', 'logistica', 'logistica', 'logistica', 'logistica', 'logistica', 'logistica', 'logistica', 'logistica', 'logistica', 'logistica', 'logistica', 'logistica', 'logistica', 'logistica', 'logistica', 'logistica', 'logistica', 'logistica', 'logistica', 'logistica', 'logistica', 'logistica', 'logistica', 'logistica', 'logistica', 'logistica', 'logistica', 'logistica',\n",
    "                                      'svm', 'svm', 'svm', 'svm', 'svm', 'svm', 'svm', 'svm', 'svm', 'svm', 'svm', 'svm', 'svm', 'svm', 'svm', 'svm', 'svm', 'svm', 'svm', 'svm', 'svm', 'svm', 'svm', 'svm', 'svm', 'svm', 'svm', 'svm', 'svm', 'svm']}\n",
    "\n",
    "resultados_df = pd.DataFrame(resultados_algoritmos)"
   ]
  },
  {
   "cell_type": "code",
   "execution_count": 49,
   "metadata": {},
   "outputs": [
    {
     "data": {
      "text/plain": [
       "(   accuracy algoritmo\n",
       " 0    0.9870    arvore\n",
       " 1    0.9845    arvore\n",
       " 2    0.9905    arvore\n",
       " 3    0.9875    arvore\n",
       " 4    0.9890    arvore,\n",
       "      accuracy algoritmo\n",
       " 145    0.9820       svm\n",
       " 146    0.9840       svm\n",
       " 147    0.9865       svm\n",
       " 148    0.9835       svm\n",
       " 149    0.9865       svm)"
      ]
     },
     "execution_count": 49,
     "metadata": {},
     "output_type": "execute_result"
    }
   ],
   "source": [
    "resultados_df.head(), resultados_df.tail()"
   ]
  },
  {
   "cell_type": "code",
   "execution_count": 50,
   "metadata": {},
   "outputs": [],
   "source": [
    "from statsmodels.stats.multicomp import MultiComparison"
   ]
  },
  {
   "cell_type": "code",
   "execution_count": 51,
   "metadata": {},
   "outputs": [],
   "source": [
    "compara_algoritmos = MultiComparison(resultados_df['accuracy'], resultados_df['algoritmo'])"
   ]
  },
  {
   "cell_type": "code",
   "execution_count": 52,
   "metadata": {},
   "outputs": [
    {
     "name": "stdout",
     "output_type": "stream",
     "text": [
      "       Multiple Comparison of Means - Tukey HSD, FWER=0.05       \n",
      "=================================================================\n",
      "    group1        group2    meandiff p-adj  lower   upper  reject\n",
      "-----------------------------------------------------------------\n",
      "       arvore           knn   0.0001   0.9 -0.0009  0.0011  False\n",
      "       arvore     logistica  -0.0403 0.001 -0.0413 -0.0393   True\n",
      "       arvore random forest     -0.0   0.9  -0.001   0.001  False\n",
      "       arvore           svm  -0.0022 0.001 -0.0032 -0.0011   True\n",
      "          knn     logistica  -0.0404 0.001 -0.0414 -0.0394   True\n",
      "          knn random forest  -0.0001   0.9 -0.0011  0.0009  False\n",
      "          knn           svm  -0.0023 0.001 -0.0033 -0.0012   True\n",
      "    logistica random forest   0.0403 0.001  0.0393  0.0413   True\n",
      "    logistica           svm   0.0381 0.001  0.0371  0.0392   True\n",
      "random forest           svm  -0.0022 0.001 -0.0032 -0.0011   True\n",
      "-----------------------------------------------------------------\n"
     ]
    }
   ],
   "source": [
    "teste_tukey = compara_algoritmos.tukeyhsd()\n",
    "print(teste_tukey)\n",
    "\n",
    "# Comparar o alpha de 0.05 com os valores de p-adj. \n",
    "# Se p-adj for menor que alpha, rejeitamos a hipotese nula, o que indica que os resultados dos algoritmos são diferentes (coluna reject)\n",
    "# Se os valores forem maiores que alpha, indica que aceitamos H0 e que os resultados sã diferentes, por exemplo, tanto faz os resultados de arvore ou knn"
   ]
  },
  {
   "cell_type": "code",
   "execution_count": 57,
   "metadata": {},
   "outputs": [
    {
     "data": {
      "text/plain": [
       "KNN              0.987333\n",
       "Arvore           0.987250\n",
       "Random Forest    0.987250\n",
       "SVM              0.985083\n",
       "Logistica        0.946950\n",
       "dtype: float64"
      ]
     },
     "execution_count": 57,
     "metadata": {},
     "output_type": "execute_result"
    }
   ],
   "source": [
    "resultados.mean().sort_values(ascending=False)"
   ]
  },
  {
   "cell_type": "code",
   "execution_count": 58,
   "metadata": {},
   "outputs": [
    {
     "data": {
      "image/png": "[encoded data removed]",
      "text/plain": [
       "<Figure size 720x432 with 1 Axes>"
      ]
     },
     "metadata": {
      "needs_background": "light"
     },
     "output_type": "display_data"
    }
   ],
   "source": [
    "teste_tukey.plot_simultaneous();"
   ]
  }
 ],
 "metadata": {
  "interpreter": {
   "hash": "31f2aee4e71d21fbe5cf8b01ff0e069b9275f58929596ceb00d14d90e3e16cd6"
  },
  "kernelspec": {
   "display_name": "Python 3.8.9 64-bit",
   "language": "python",
   "name": "python3"
  },
  "language_info": {
   "codemirror_mode": {
    "name": "ipython",
    "version": 3
   },
   "file_extension": ".py",
   "mimetype": "text/x-python",
   "name": "python",
   "nbconvert_exporter": "python",
   "pygments_lexer": "ipython3",
   "version": "3.8.9"
  },
  "orig_nbformat": 4
 },
 "nbformat": 4,
 "nbformat_minor": 2
}
