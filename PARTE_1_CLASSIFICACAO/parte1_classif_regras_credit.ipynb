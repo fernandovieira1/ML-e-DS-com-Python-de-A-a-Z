{
 "cells": [
  {
   "cell_type": "code",
   "execution_count": 14,
   "metadata": {},
   "outputs": [],
   "source": [
    "#!pip3 install Orange3"
   ]
  },
  {
   "cell_type": "code",
   "execution_count": 15,
   "metadata": {},
   "outputs": [],
   "source": [
    "import Orange"
   ]
  },
  {
   "cell_type": "code",
   "execution_count": 16,
   "metadata": {},
   "outputs": [],
   "source": [
    "base_credit = Orange.data.Table('Bases de dados/credit_data_regras.csv')"
   ]
  },
  {
   "cell_type": "code",
   "execution_count": 17,
   "metadata": {},
   "outputs": [
    {
     "data": {
      "text/plain": [
       "[[66155.9, 59.017, 8106.53 | 0],\n",
       " [34415.2, 48.1172, 6564.75 | 0],\n",
       " [57317.2, 63.108, 8020.95 | 0],\n",
       " [42709.5, 45.752, 6103.64 | 0],\n",
       " [66952.7, 18.5843, 8770.1 | 1],\n",
       " ...\n",
       "]"
      ]
     },
     "execution_count": 17,
     "metadata": {},
     "output_type": "execute_result"
    }
   ],
   "source": [
    "base_credit # a variavel y precisa ter 'c#' no nome\n",
    "# i# ignora a coluna"
   ]
  },
  {
   "cell_type": "code",
   "execution_count": 18,
   "metadata": {},
   "outputs": [
    {
     "data": {
      "text/plain": [
       "[income, age, loan | default]"
      ]
     },
     "execution_count": 18,
     "metadata": {},
     "output_type": "execute_result"
    }
   ],
   "source": [
    "base_credit.domain"
   ]
  },
  {
   "cell_type": "code",
   "execution_count": 25,
   "metadata": {},
   "outputs": [],
   "source": [
    "# dividir as bases de dados para treinamento e teste\n",
    "base_dividida = Orange.evaluation.testing.sample(base_credit, n=0.25) # base_dividida[0]: treinamento; base_dividida[1]: teste\n",
    "\n",
    "base_treinamento = base_dividida[1]\n",
    "base_teste = base_dividida[0]"
   ]
  },
  {
   "cell_type": "code",
   "execution_count": 26,
   "metadata": {},
   "outputs": [
    {
     "data": {
      "text/plain": [
       "(1500, 500)"
      ]
     },
     "execution_count": 26,
     "metadata": {},
     "output_type": "execute_result"
    }
   ],
   "source": [
    "# verificando o tamanho das bases\n",
    "len(base_treinamento), len(base_teste)"
   ]
  },
  {
   "cell_type": "code",
   "execution_count": 27,
   "metadata": {},
   "outputs": [],
   "source": [
    "# treinamento\n",
    "cn2 = Orange.classification.rules.CN2Learner()\n",
    "regras_credit = cn2(base_treinamento)"
   ]
  },
  {
   "cell_type": "code",
   "execution_count": 29,
   "metadata": {},
   "outputs": [
    {
     "name": "stdout",
     "output_type": "stream",
     "text": [
      "IF age>=34.9257164876908 THEN default=0 \n",
      "IF loan<=2495.13299137587 AND income>=20145.9885970689 THEN default=0 \n",
      "IF income<=31702.3342987522 AND loan>=3665.88089899456 THEN default=1 \n",
      "IF loan>=7708.31562497011 AND loan>=9601.375482171099 THEN default=1 \n",
      "IF loan>=7708.31562497011 AND loan>=9595.28628892989 THEN default=0 \n",
      "IF loan>=7708.31562497011 AND age>=21.4227129220963 THEN default=1 \n",
      "IF age>=34.851817262359 THEN default=0 \n",
      "IF income<=22089.8374845274 AND age>=21.3656869572587 THEN default=1 \n",
      "IF loan<=5473.98555060076 AND income>=40496.2558229454 THEN default=0 \n",
      "IF loan<=4367.26495019919 AND loan>=4367.26495019919 THEN default=1 \n",
      "IF loan<=4625.19337762744 AND loan>=4625.19337762744 THEN default=1 \n",
      "IF loan<=4849.33378471958 AND loan>=4849.33378471958 THEN default=1 \n",
      "IF loan<=4999.2020148962 AND loan>=4999.2020148962 THEN default=1 \n",
      "IF loan<=5061.77783089573 AND loan>=5061.77783089573 THEN default=1 \n",
      "IF loan<=5094.6700842702 AND loan>=5094.6700842702 THEN default=1 \n",
      "IF loan<=5233.66322803221 AND loan>=5233.66322803221 THEN default=1 \n",
      "IF loan<=5282.728560308379 AND loan>=5282.728560308379 THEN default=1 \n",
      "IF loan<=5473.98555060076 AND loan>=5473.98555060076 THEN default=1 \n",
      "IF loan<=5502.73603087282 AND loan>=5502.73603087282 THEN default=1 \n",
      "IF income>=58132.4712652713 AND age>=20.3008601283655 THEN default=0 \n",
      "IF loan>=5836.56338145928 AND age>=26.9590053195134 THEN default=1 \n",
      "IF loan>=6053.79158149127 AND age>=26.7719294563867 THEN default=0 \n",
      "IF loan>=6053.79158149127 AND age>=23.5900381784886 THEN default=1 \n",
      "IF loan>=6994.48780081424 AND age>=20.2281011762097 THEN default=1 \n",
      "IF loan>=7235.19471689825 AND age>=18.621307099238 THEN default=1 \n",
      "IF income>=48430.3596126847 AND income>=66952.68884534019 THEN default=1 \n",
      "IF income>=48430.3596126847 THEN default=0 \n",
      "IF income>=40708.9194096625 THEN default=1 \n",
      "IF loan>=5604.16999048292 THEN default=1 \n",
      "IF income>=27407.056202646298 THEN default=0 \n",
      "IF income>=25640.0788831525 THEN default=1 \n",
      "IF income>=24857.6948815025 THEN default=0 \n",
      "IF loan>=2971.00330971188 THEN default=1 \n",
      "IF income<=22925.8120805025 THEN default=0 \n",
      "IF TRUE THEN default=0 \n"
     ]
    }
   ],
   "source": [
    "# Ver as regras geradas pelo algoritmo\n",
    "for regras in regras_credit.rule_list:\n",
    "    print(regras)"
   ]
  },
  {
   "cell_type": "code",
   "execution_count": 31,
   "metadata": {},
   "outputs": [
    {
     "data": {
      "text/plain": [
       "<Orange.evaluation.testing.Results at 0x12b318f10>"
      ]
     },
     "execution_count": 31,
     "metadata": {},
     "output_type": "execute_result"
    }
   ],
   "source": [
    "# Predizer a classificacao de dois registros\n",
    "previsoes = Orange.evaluation.testing.TestOnTestData(base_treinamento, base_teste, [lambda testdata: regras_credit])\n",
    "previsoes"
   ]
  },
  {
   "cell_type": "code",
   "execution_count": 33,
   "metadata": {},
   "outputs": [
    {
     "data": {
      "text/plain": [
       "array([0.98])"
      ]
     },
     "execution_count": 33,
     "metadata": {},
     "output_type": "execute_result"
    }
   ],
   "source": [
    "# Metricas\n",
    "Orange.evaluation.CA(previsoes) # acuracia"
   ]
  }
 ],
 "metadata": {
  "interpreter": {
   "hash": "397704579725e15f5c7cb49fe5f0341eb7531c82d19f2c29d197e8b64ab5776b"
  },
  "kernelspec": {
   "display_name": "Python 3.9.7 64-bit",
   "language": "python",
   "name": "python3"
  },
  "language_info": {
   "codemirror_mode": {
    "name": "ipython",
    "version": 3
   },
   "file_extension": ".py",
   "mimetype": "text/x-python",
   "name": "python",
   "nbconvert_exporter": "python",
   "pygments_lexer": "ipython3",
   "version": "3.8.9"
  },
  "orig_nbformat": 4
 },
 "nbformat": 4,
 "nbformat_minor": 2
}
